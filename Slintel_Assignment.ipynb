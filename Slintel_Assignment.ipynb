{
  "nbformat": 4,
  "nbformat_minor": 0,
  "metadata": {
    "kernelspec": {
      "display_name": "Python 3",
      "language": "python",
      "name": "python3"
    },
    "language_info": {
      "codemirror_mode": {
        "name": "ipython",
        "version": 3
      },
      "file_extension": ".py",
      "mimetype": "text/x-python",
      "name": "python",
      "nbconvert_exporter": "python",
      "pygments_lexer": "ipython3",
      "version": "3.7.4"
    },
    "colab": {
      "name": "Slintel_Assignment.ipynb",
      "provenance": [],
      "collapsed_sections": [],
      "include_colab_link": true
    }
  },
  "cells": [
    {
      "cell_type": "markdown",
      "metadata": {
        "id": "view-in-github",
        "colab_type": "text"
      },
      "source": [
        "<a href=\"https://colab.research.google.com/github/ssunwalka01/NER/blob/master/Slintel_Assignment.ipynb\" target=\"_parent\"><img src=\"https://colab.research.google.com/assets/colab-badge.svg\" alt=\"Open In Colab\"/></a>"
      ]
    },
    {
      "cell_type": "markdown",
      "metadata": {
        "id": "m4JryurFGjvG",
        "colab_type": "text"
      },
      "source": [
        "- importing the libraries here..."
      ]
    },
    {
      "cell_type": "code",
      "metadata": {
        "id": "gVtvbWqdhLWl",
        "colab_type": "code",
        "colab": {}
      },
      "source": [
        "import nltk\n",
        "# nltk.download()\n",
        "import pandas as pd\n",
        "import spacy\n",
        "# from spacy import displacy\n",
        "# from collections import Counter\n",
        "import en_core_web_lg\n",
        "nlp = en_core_web_lg.load()"
      ],
      "execution_count": 337,
      "outputs": []
    },
    {
      "cell_type": "code",
      "metadata": {
        "id": "ZJdkNkhDVDmx",
        "colab_type": "code",
        "colab": {}
      },
      "source": [
        "# !python -m spacy download en_core_web_lg"
      ],
      "execution_count": 338,
      "outputs": []
    },
    {
      "cell_type": "code",
      "metadata": {
        "id": "eGFuuERhhLWo",
        "colab_type": "code",
        "colab": {}
      },
      "source": [
        "master = pd.read_csv(\"/content/master-company-sheet.csv\")\n",
        "blogs = pd.read_csv(\"/content/news-data.csv\")\n",
        "output = pd.read_csv(\"/content/output-sheet.csv\")"
      ],
      "execution_count": 339,
      "outputs": []
    },
    {
      "cell_type": "code",
      "metadata": {
        "id": "xPjXJkY-hLWt",
        "colab_type": "code",
        "colab": {
          "base_uri": "https://localhost:8080/",
          "height": 221
        },
        "outputId": "2111e36e-6312-47ba-e653-d5dab29b4441"
      },
      "source": [
        "print(\"master sheet\", master.head())\n",
        "print(\"\\n\\nmaster sheet data types\\n\", master.dtypes)"
      ],
      "execution_count": 340,
      "outputs": [
        {
          "output_type": "stream",
          "text": [
            "master sheet    _id                            name\n",
            "0    1                      Telefónica\n",
            "1    2             Corsair Capital LLC\n",
            "2    3                            MSTS\n",
            "3    4  Franklin Templeton Investments\n",
            "4    5                      Legg Mason\n",
            "\n",
            "\n",
            "master sheet data types\n",
            " _id      int64\n",
            "name    object\n",
            "dtype: object\n"
          ],
          "name": "stdout"
        }
      ]
    },
    {
      "cell_type": "code",
      "metadata": {
        "id": "vscq8gRlhLWz",
        "colab_type": "code",
        "colab": {
          "base_uri": "https://localhost:8080/",
          "height": 323
        },
        "outputId": "3c229953-d836-4742-9997-2d7172463dec"
      },
      "source": [
        "print(\"blogs sheet\", blogs.head())\n",
        "print(\"\\n\\n blogs sheet data types\\n\", blogs.dtypes)"
      ],
      "execution_count": 341,
      "outputs": [
        {
          "output_type": "stream",
          "text": [
            "blogs sheet    _id  ...                  published_on\n",
            "0    1  ...  2020-07-31T15:41:00.0000000Z\n",
            "1    2  ...  2020-08-01T00:02:00.0000000Z\n",
            "2    3  ...  2020-07-31T22:36:00.0000000Z\n",
            "3    4  ...  2020-08-01T06:29:00.0000000Z\n",
            "4    5  ...  2020-07-31T18:47:00.0000000Z\n",
            "\n",
            "[5 rows x 6 columns]\n",
            "\n",
            "\n",
            " blogs sheet data types\n",
            " _id              int64\n",
            "theme           object\n",
            "source          object\n",
            "title           object\n",
            "description     object\n",
            "published_on    object\n",
            "dtype: object\n"
          ],
          "name": "stdout"
        }
      ]
    },
    {
      "cell_type": "code",
      "metadata": {
        "id": "SX0gMzV8hLW2",
        "colab_type": "code",
        "colab": {
          "base_uri": "https://localhost:8080/",
          "height": 204
        },
        "outputId": "62db2606-0861-47db-a5aa-26fb7b0d81e3"
      },
      "source": [
        "print(\"output sheet\", output.head())\n",
        "print(\"\\n\\n output sheet data types\\n\", output.dtypes)"
      ],
      "execution_count": 342,
      "outputs": [
        {
          "output_type": "stream",
          "text": [
            "output sheet Empty DataFrame\n",
            "Columns: [blog_id, title, description, company_ids]\n",
            "Index: []\n",
            "\n",
            "\n",
            " output sheet data types\n",
            " blog_id        object\n",
            "title          object\n",
            "description    object\n",
            "company_ids    object\n",
            "dtype: object\n"
          ],
          "name": "stdout"
        }
      ]
    },
    {
      "cell_type": "code",
      "metadata": {
        "id": "jPvd9U_qG7Cs",
        "colab_type": "code",
        "colab": {}
      },
      "source": [
        "def dictionary_with_title_description(df):\n",
        "  \" This function will return dictionaries containing blog id, company names from title, and company name from description\"\n",
        "  \n",
        "  company_names_title = {} # initialising empty dictionary for company names extracted from title\n",
        "  company_names_description = {} # initialising empty dictionary for company names extracted from description\n",
        "  descriptionDict = {} # {index : [blog_id, title, description], index_2 : ...}\n",
        "  \n",
        "  for i in range(0, len(df)):\n",
        "    \n",
        "    descriptionDict.setdefault(i, [])\n",
        "    # The magic of setdefault is that it initializes the value for that key if that key is not defined, otherwise it does nothing.\n",
        "    descriptionDict[i].append(df.loc[i, \"_id\"]) # will be adding multiple values in a single key (Here, adding _id)\n",
        "\n",
        "    #  title\n",
        "    descriptionDict.setdefault(i, [])\n",
        "    descriptionDict[i].append(df.loc[i, \"title\"]) # adding title as value in dictionay\n",
        "\n",
        "    # description\n",
        "    descriptionDict.setdefault(i, [])\n",
        "    descriptionDict[i].append(df.loc[i, \"description\"]) #adding description as value in the dictionary\n",
        "\n",
        "  for i in range(0, len(df)):\n",
        "    doc = nlp(descriptionDict[i][2])\n",
        "\n",
        "    for X in doc.ents:\n",
        "      #print((X.text, X.label_, type(X.text), type(X.label_)))\n",
        "      \n",
        "      if X.label_ == 'ORG':\n",
        "        company_names_description.update({descriptionDict[i][0]:X.text})\n",
        "\n",
        "  for i in range(0, len(df)):\n",
        "    titl = nlp(descriptionDict[i][1])\n",
        "    \n",
        "    for X in titl.ents:\n",
        "      #print((X.text, X.label_, type(X.text), type(X.label_)))\n",
        "      \n",
        "      if X.label_ == 'ORG':\n",
        "        company_names_title.update({descriptionDict[i][0]:X.text})\n",
        "\n",
        "  return descriptionDict, company_names_description, company_names_title"
      ],
      "execution_count": 343,
      "outputs": []
    },
    {
      "cell_type": "code",
      "metadata": {
        "id": "fmQS4ClKI5eK",
        "colab_type": "code",
        "colab": {}
      },
      "source": [
        "descriptionDict, company_names_description, company_names_title = dictionary_with_title_description(blogs)"
      ],
      "execution_count": 344,
      "outputs": []
    },
    {
      "cell_type": "code",
      "metadata": {
        "id": "bwssDbCSnKmo",
        "colab_type": "code",
        "colab": {}
      },
      "source": [
        "final_dictionary = {}\n",
        "try:\n",
        "  for key, value in company_names_description.items():\n",
        "    # print(\"Value at o\", value[0])\n",
        "    \n",
        "    for j in range(0, len(master)):\n",
        "      \n",
        "      if (value == master.loc[j, \"name\"]):\n",
        "        \n",
        "        final_dictionary.setdefault(key, [])\n",
        "        final_dictionary[key].append(master.loc[j, \"_id\"])\n",
        "\n",
        "except:\n",
        "  print(\"RA\")"
      ],
      "execution_count": 345,
      "outputs": []
    },
    {
      "cell_type": "code",
      "metadata": {
        "id": "DYtkJFP6M6rX",
        "colab_type": "code",
        "colab": {
          "base_uri": "https://localhost:8080/",
          "height": 34
        },
        "outputId": "2edfaee1-d8a9-42d7-e41f-086c01e01d2f"
      },
      "source": [
        "final_dictionary"
      ],
      "execution_count": 346,
      "outputs": [
        {
          "output_type": "execute_result",
          "data": {
            "text/plain": [
              "{6: [36], 7: [38], 13: [42], 25: [45], 78: [29], 107: [22]}"
            ]
          },
          "metadata": {
            "tags": []
          },
          "execution_count": 346
        }
      ]
    },
    {
      "cell_type": "code",
      "metadata": {
        "id": "epnzUCcUM6u6",
        "colab_type": "code",
        "colab": {}
      },
      "source": [
        "try:\n",
        "  for key, value in company_names_title.items():\n",
        "    # print(\"Value at o\", value[0])\n",
        "    \n",
        "    for j in range(0, len(master)):\n",
        "      \n",
        "      if (value == master.loc[j, \"name\"]):\n",
        "        # print(\"name\", value,\"---\", master.loc[j, \"name\"])\n",
        "        final_dictionary.setdefault(key, [])\n",
        "        final_dictionary[key].append(master.loc[j, \"_id\"])\n",
        "\n",
        "\n",
        "except:\n",
        "  print(\"RA\")"
      ],
      "execution_count": 347,
      "outputs": []
    },
    {
      "cell_type": "code",
      "metadata": {
        "id": "SWNU6lXYyHUH",
        "colab_type": "code",
        "colab": {
          "base_uri": "https://localhost:8080/",
          "height": 620
        },
        "outputId": "fae77ce1-4c6b-4c35-a155-41eed7fb6de2"
      },
      "source": [
        "blogs.set_index(\"_id\")"
      ],
      "execution_count": 348,
      "outputs": [
        {
          "output_type": "execute_result",
          "data": {
            "text/html": [
              "<div>\n",
              "<style scoped>\n",
              "    .dataframe tbody tr th:only-of-type {\n",
              "        vertical-align: middle;\n",
              "    }\n",
              "\n",
              "    .dataframe tbody tr th {\n",
              "        vertical-align: top;\n",
              "    }\n",
              "\n",
              "    .dataframe thead th {\n",
              "        text-align: right;\n",
              "    }\n",
              "</style>\n",
              "<table border=\"1\" class=\"dataframe\">\n",
              "  <thead>\n",
              "    <tr style=\"text-align: right;\">\n",
              "      <th></th>\n",
              "      <th>theme</th>\n",
              "      <th>source</th>\n",
              "      <th>title</th>\n",
              "      <th>description</th>\n",
              "      <th>published_on</th>\n",
              "    </tr>\n",
              "    <tr>\n",
              "      <th>_id</th>\n",
              "      <th></th>\n",
              "      <th></th>\n",
              "      <th></th>\n",
              "      <th></th>\n",
              "      <th></th>\n",
              "    </tr>\n",
              "  </thead>\n",
              "  <tbody>\n",
              "    <tr>\n",
              "      <th>1</th>\n",
              "      <td>funding</td>\n",
              "      <td>bing</td>\n",
              "      <td>Chinese Tesla rival Xpeng Motors in talks over...</td>\n",
              "      <td>Xpeng Motors, one of Tesla's rivals in China, ...</td>\n",
              "      <td>2020-07-31T15:41:00.0000000Z</td>\n",
              "    </tr>\n",
              "    <tr>\n",
              "      <th>2</th>\n",
              "      <td>funding</td>\n",
              "      <td>bing</td>\n",
              "      <td>Wine.com Seeks Funding at Valuation of More Th...</td>\n",
              "      <td>Wine.com, an online retailer that lets custome...</td>\n",
              "      <td>2020-08-01T00:02:00.0000000Z</td>\n",
              "    </tr>\n",
              "    <tr>\n",
              "      <th>3</th>\n",
              "      <td>funding</td>\n",
              "      <td>bing</td>\n",
              "      <td>Fenwick-Led Telehealth Co. Raises $33M As Indu...</td>\n",
              "      <td>Fenwick-advised telehealth platform Lemonaid H...</td>\n",
              "      <td>2020-07-31T22:36:00.0000000Z</td>\n",
              "    </tr>\n",
              "    <tr>\n",
              "      <th>4</th>\n",
              "      <td>funding</td>\n",
              "      <td>bing</td>\n",
              "      <td>United Community Banks (NASDAQ:UCBI) Raised to...</td>\n",
              "      <td>United Community Banks (NASDAQ:UCBI) was upgra...</td>\n",
              "      <td>2020-08-01T06:29:00.0000000Z</td>\n",
              "    </tr>\n",
              "    <tr>\n",
              "      <th>5</th>\n",
              "      <td>funding</td>\n",
              "      <td>bing</td>\n",
              "      <td>Golden West Food Group, Cooks Venture Raise $1...</td>\n",
              "      <td>PRNewswire/ -- Golden West Food Group and Cook...</td>\n",
              "      <td>2020-07-31T18:47:00.0000000Z</td>\n",
              "    </tr>\n",
              "    <tr>\n",
              "      <th>...</th>\n",
              "      <td>...</td>\n",
              "      <td>...</td>\n",
              "      <td>...</td>\n",
              "      <td>...</td>\n",
              "      <td>...</td>\n",
              "    </tr>\n",
              "    <tr>\n",
              "      <th>109</th>\n",
              "      <td>ipos</td>\n",
              "      <td>bing</td>\n",
              "      <td>AlloVir raises $276M IPO to run broad cell the...</td>\n",
              "      <td>AlloVir has raised $276 million in an upsized ...</td>\n",
              "      <td>2020-07-31T12:25:00.0000000Z</td>\n",
              "    </tr>\n",
              "    <tr>\n",
              "      <th>110</th>\n",
              "      <td>ipos</td>\n",
              "      <td>bing</td>\n",
              "      <td>Exclusive: SenseTime eyes STAR market IPO afte...</td>\n",
              "      <td>Chinese start-up SenseTime is considering an i...</td>\n",
              "      <td>2020-07-31T10:48:00.0000000Z</td>\n",
              "    </tr>\n",
              "    <tr>\n",
              "      <th>111</th>\n",
              "      <td>ipos</td>\n",
              "      <td>bing</td>\n",
              "      <td>Vital Farms shares soar 63% in trading debut a...</td>\n",
              "      <td>Shares of ethical food company Vital Farms Inc...</td>\n",
              "      <td>2020-07-31T16:45:00.0000000Z</td>\n",
              "    </tr>\n",
              "    <tr>\n",
              "      <th>112</th>\n",
              "      <td>ipos</td>\n",
              "      <td>bing</td>\n",
              "      <td>Conscious agribusiness Vital Farms goes public</td>\n",
              "      <td>You can find their eggs in Whole Foods, Walmar...</td>\n",
              "      <td>2020-07-31T20:26:00.0000000Z</td>\n",
              "    </tr>\n",
              "    <tr>\n",
              "      <th>113</th>\n",
              "      <td>ipos</td>\n",
              "      <td>bing</td>\n",
              "      <td>ESSA Pharma Completes Public Offering for Aggr...</td>\n",
              "      <td>ESSA Pharma Inc. (\"ESSA\", or the \"Company\") (N...</td>\n",
              "      <td>2020-07-31T14:21:00.0000000Z</td>\n",
              "    </tr>\n",
              "  </tbody>\n",
              "</table>\n",
              "<p>113 rows × 5 columns</p>\n",
              "</div>"
            ],
            "text/plain": [
              "       theme  ...                  published_on\n",
              "_id           ...                              \n",
              "1    funding  ...  2020-07-31T15:41:00.0000000Z\n",
              "2    funding  ...  2020-08-01T00:02:00.0000000Z\n",
              "3    funding  ...  2020-07-31T22:36:00.0000000Z\n",
              "4    funding  ...  2020-08-01T06:29:00.0000000Z\n",
              "5    funding  ...  2020-07-31T18:47:00.0000000Z\n",
              "..       ...  ...                           ...\n",
              "109     ipos  ...  2020-07-31T12:25:00.0000000Z\n",
              "110     ipos  ...  2020-07-31T10:48:00.0000000Z\n",
              "111     ipos  ...  2020-07-31T16:45:00.0000000Z\n",
              "112     ipos  ...  2020-07-31T20:26:00.0000000Z\n",
              "113     ipos  ...  2020-07-31T14:21:00.0000000Z\n",
              "\n",
              "[113 rows x 5 columns]"
            ]
          },
          "metadata": {
            "tags": []
          },
          "execution_count": 348
        }
      ]
    },
    {
      "cell_type": "code",
      "metadata": {
        "id": "ykWbBVlwv_t3",
        "colab_type": "code",
        "colab": {}
      },
      "source": [
        "for k, v in final_dictionary.items():\n",
        "  new_row = {'blog_id':k, 'title': blogs[\"title\"][k], 'description': blogs[\"description\"][k], 'company_ids': final_dictionary[k]}\n",
        "  output = output.append(new_row, ignore_index=True)"
      ],
      "execution_count": 349,
      "outputs": []
    },
    {
      "cell_type": "code",
      "metadata": {
        "id": "hKgiSHHz5OHo",
        "colab_type": "code",
        "colab": {
          "base_uri": "https://localhost:8080/",
          "height": 545
        },
        "outputId": "7ba139ab-8732-439f-ebb4-d89188c75e44"
      },
      "source": [
        "output"
      ],
      "execution_count": 350,
      "outputs": [
        {
          "output_type": "execute_result",
          "data": {
            "text/html": [
              "<div>\n",
              "<style scoped>\n",
              "    .dataframe tbody tr th:only-of-type {\n",
              "        vertical-align: middle;\n",
              "    }\n",
              "\n",
              "    .dataframe tbody tr th {\n",
              "        vertical-align: top;\n",
              "    }\n",
              "\n",
              "    .dataframe thead th {\n",
              "        text-align: right;\n",
              "    }\n",
              "</style>\n",
              "<table border=\"1\" class=\"dataframe\">\n",
              "  <thead>\n",
              "    <tr style=\"text-align: right;\">\n",
              "      <th></th>\n",
              "      <th>blog_id</th>\n",
              "      <th>title</th>\n",
              "      <th>description</th>\n",
              "      <th>company_ids</th>\n",
              "    </tr>\n",
              "  </thead>\n",
              "  <tbody>\n",
              "    <tr>\n",
              "      <th>0</th>\n",
              "      <td>6</td>\n",
              "      <td>XBiotech: Well Funded, Working On The Next Ber...</td>\n",
              "      <td>XBiotech develops True Humanâ„¢ (naturally occ...</td>\n",
              "      <td>[36, 36]</td>\n",
              "    </tr>\n",
              "    <tr>\n",
              "      <th>1</th>\n",
              "      <td>7</td>\n",
              "      <td>Kodak boss took out stock options day before f...</td>\n",
              "      <td>Kodak CEO, Jim Continenza (above) was awarded ...</td>\n",
              "      <td>[38]</td>\n",
              "    </tr>\n",
              "    <tr>\n",
              "      <th>2</th>\n",
              "      <td>13</td>\n",
              "      <td>Microsoft in talks to acquire TikTok, reports say</td>\n",
              "      <td>Microsoft is reportedly in talks to acquire Ti...</td>\n",
              "      <td>[42, 42]</td>\n",
              "    </tr>\n",
              "    <tr>\n",
              "      <th>3</th>\n",
              "      <td>25</td>\n",
              "      <td>Microsoft Reportedly In Talks To Acquire TikTo...</td>\n",
              "      <td>We may be banning TikTok. We are looking at a ...</td>\n",
              "      <td>[45, 45]</td>\n",
              "    </tr>\n",
              "    <tr>\n",
              "      <th>4</th>\n",
              "      <td>78</td>\n",
              "      <td>RPN launches improved Rubber News Directory in...</td>\n",
              "      <td>In conjunction with the launch, MediaBrains is...</td>\n",
              "      <td>[29, 29]</td>\n",
              "    </tr>\n",
              "    <tr>\n",
              "      <th>5</th>\n",
              "      <td>107</td>\n",
              "      <td>Eventbrite co-founder joins 'blank check' IPO ...</td>\n",
              "      <td>Kevin Hartz, co-founder of Eventbrite Inc., fi...</td>\n",
              "      <td>[22]</td>\n",
              "    </tr>\n",
              "    <tr>\n",
              "      <th>6</th>\n",
              "      <td>1</td>\n",
              "      <td>Wine.com Seeks Funding at Valuation of More Th...</td>\n",
              "      <td>Wine.com, an online retailer that lets custome...</td>\n",
              "      <td>[31]</td>\n",
              "    </tr>\n",
              "    <tr>\n",
              "      <th>7</th>\n",
              "      <td>8</td>\n",
              "      <td>Mammoth Energy Services' (TUSK) CEO Arty Strae...</td>\n",
              "      <td>Q2 2020 Earnings Conference Call July 30, 2020...</td>\n",
              "      <td>[40]</td>\n",
              "    </tr>\n",
              "    <tr>\n",
              "      <th>8</th>\n",
              "      <td>18</td>\n",
              "      <td>Alta Equipment to acquire Martin Implement Sales</td>\n",
              "      <td>Alta Equipment Group (NYSE:ALTG) announcesÂ an...</td>\n",
              "      <td>[43]</td>\n",
              "    </tr>\n",
              "    <tr>\n",
              "      <th>9</th>\n",
              "      <td>19</td>\n",
              "      <td>Advent to acquire RA Chem Pharma</td>\n",
              "      <td>Advent International has agreed to acquire a c...</td>\n",
              "      <td>[43]</td>\n",
              "    </tr>\n",
              "    <tr>\n",
              "      <th>10</th>\n",
              "      <td>41</td>\n",
              "      <td>EU clears Alstom's acquisition of Bombardier r...</td>\n",
              "      <td>The European Commission has cleared the acquis...</td>\n",
              "      <td>[5]</td>\n",
              "    </tr>\n",
              "    <tr>\n",
              "      <th>11</th>\n",
              "      <td>53</td>\n",
              "      <td>L3Harris Technologies Completes Sale of EOTech...</td>\n",
              "      <td>L3Harris Technologies (NYSE:LHX) today complet...</td>\n",
              "      <td>[8]</td>\n",
              "    </tr>\n",
              "    <tr>\n",
              "      <th>12</th>\n",
              "      <td>58</td>\n",
              "      <td>OpenClose Integration with Access Business Tec...</td>\n",
              "      <td>OpenCloseÂ®, the industry-leading mortgage fin...</td>\n",
              "      <td>[13]</td>\n",
              "    </tr>\n",
              "    <tr>\n",
              "      <th>13</th>\n",
              "      <td>76</td>\n",
              "      <td>BREAKING: Weeks After Canceling Atlantic Coast...</td>\n",
              "      <td>Wow, very interesting...been wondering if some...</td>\n",
              "      <td>[17]</td>\n",
              "    </tr>\n",
              "    <tr>\n",
              "      <th>14</th>\n",
              "      <td>104</td>\n",
              "      <td>Nordea appoints Ulrika Romantschuk as Head of ...</td>\n",
              "      <td>Ulrika Romantschuk will join Nordea as Head of...</td>\n",
              "      <td>[24]</td>\n",
              "    </tr>\n",
              "    <tr>\n",
              "      <th>15</th>\n",
              "      <td>105</td>\n",
              "      <td>IPO Update:  Proposes IPO Terms</td>\n",
              "      <td>Acutus Medical intends to raise $125 million i...</td>\n",
              "      <td>[23]</td>\n",
              "    </tr>\n",
              "  </tbody>\n",
              "</table>\n",
              "</div>"
            ],
            "text/plain": [
              "   blog_id  ... company_ids\n",
              "0        6  ...    [36, 36]\n",
              "1        7  ...        [38]\n",
              "2       13  ...    [42, 42]\n",
              "3       25  ...    [45, 45]\n",
              "4       78  ...    [29, 29]\n",
              "5      107  ...        [22]\n",
              "6        1  ...        [31]\n",
              "7        8  ...        [40]\n",
              "8       18  ...        [43]\n",
              "9       19  ...        [43]\n",
              "10      41  ...         [5]\n",
              "11      53  ...         [8]\n",
              "12      58  ...        [13]\n",
              "13      76  ...        [17]\n",
              "14     104  ...        [24]\n",
              "15     105  ...        [23]\n",
              "\n",
              "[16 rows x 4 columns]"
            ]
          },
          "metadata": {
            "tags": []
          },
          "execution_count": 350
        }
      ]
    },
    {
      "cell_type": "code",
      "metadata": {
        "id": "ZIydqgqt4sCu",
        "colab_type": "code",
        "colab": {}
      },
      "source": [
        "output.to_csv(\"output-sheet_new_lg.csv\", index = False)"
      ],
      "execution_count": 351,
      "outputs": []
    }
  ]
}