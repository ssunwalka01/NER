{
  "nbformat": 4,
  "nbformat_minor": 0,
  "metadata": {
    "kernelspec": {
      "display_name": "Python 3",
      "language": "python",
      "name": "python3"
    },
    "language_info": {
      "codemirror_mode": {
        "name": "ipython",
        "version": 3
      },
      "file_extension": ".py",
      "mimetype": "text/x-python",
      "name": "python",
      "nbconvert_exporter": "python",
      "pygments_lexer": "ipython3",
      "version": "3.7.4"
    },
    "colab": {
      "name": "Slintel_Assignment_3.ipynb",
      "provenance": [],
      "collapsed_sections": [],
      "include_colab_link": true
    }
  },
  "cells": [
    {
      "cell_type": "markdown",
      "metadata": {
        "id": "view-in-github",
        "colab_type": "text"
      },
      "source": [
        "<a href=\"https://colab.research.google.com/github/ssunwalka01/NER/blob/master/Slintel_Assignment_3.ipynb\" target=\"_parent\"><img src=\"https://colab.research.google.com/assets/colab-badge.svg\" alt=\"Open In Colab\"/></a>"
      ]
    },
    {
      "cell_type": "markdown",
      "metadata": {
        "id": "m4JryurFGjvG",
        "colab_type": "text"
      },
      "source": [
        "- importing the libraries here..."
      ]
    },
    {
      "cell_type": "code",
      "metadata": {
        "id": "gVtvbWqdhLWl",
        "colab_type": "code",
        "colab": {}
      },
      "source": [
        "import nltk\n",
        "# nltk.download()\n",
        "import pandas as pd\n",
        "import spacy\n",
        "# from spacy import displacy\n",
        "# from collections import Counter\n",
        "import en_core_web_sm\n",
        "nlp = en_core_web_sm.load()"
      ],
      "execution_count": 70,
      "outputs": []
    },
    {
      "cell_type": "code",
      "metadata": {
        "id": "ZJdkNkhDVDmx",
        "colab_type": "code",
        "colab": {}
      },
      "source": [
        "# !python -m spacy download en_core_web_lg"
      ],
      "execution_count": 71,
      "outputs": []
    },
    {
      "cell_type": "code",
      "metadata": {
        "id": "eGFuuERhhLWo",
        "colab_type": "code",
        "colab": {}
      },
      "source": [
        "master = pd.read_csv(\"/content/master-company-sheet.csv\")\n",
        "blogs = pd.read_csv(\"/content/news-data.csv\")\n",
        "output = pd.read_csv(\"/content/output-sheet.csv\")"
      ],
      "execution_count": 72,
      "outputs": []
    },
    {
      "cell_type": "code",
      "metadata": {
        "id": "xPjXJkY-hLWt",
        "colab_type": "code",
        "colab": {
          "base_uri": "https://localhost:8080/",
          "height": 221
        },
        "outputId": "402f4504-8251-44b6-d5ed-20d6e3ed618c"
      },
      "source": [
        "print(\"master sheet\", master.head())\n",
        "print(\"\\n\\nmaster sheet data types\\n\", master.dtypes)"
      ],
      "execution_count": 73,
      "outputs": [
        {
          "output_type": "stream",
          "text": [
            "master sheet    _id                            name\n",
            "0    1                      Telefónica\n",
            "1    2             Corsair Capital LLC\n",
            "2    3                            MSTS\n",
            "3    4  Franklin Templeton Investments\n",
            "4    5                      Legg Mason\n",
            "\n",
            "\n",
            "master sheet data types\n",
            " _id      int64\n",
            "name    object\n",
            "dtype: object\n"
          ],
          "name": "stdout"
        }
      ]
    },
    {
      "cell_type": "code",
      "metadata": {
        "id": "vscq8gRlhLWz",
        "colab_type": "code",
        "colab": {
          "base_uri": "https://localhost:8080/",
          "height": 323
        },
        "outputId": "932a123a-4550-4aed-b373-3fdca6c96159"
      },
      "source": [
        "print(\"blogs sheet\", blogs.head())\n",
        "print(\"\\n\\n blogs sheet data types\\n\", blogs.dtypes)"
      ],
      "execution_count": 74,
      "outputs": [
        {
          "output_type": "stream",
          "text": [
            "blogs sheet    _id  ...                  published_on\n",
            "0    1  ...  2020-07-31T15:41:00.0000000Z\n",
            "1    2  ...  2020-08-01T00:02:00.0000000Z\n",
            "2    3  ...  2020-07-31T22:36:00.0000000Z\n",
            "3    4  ...  2020-08-01T06:29:00.0000000Z\n",
            "4    5  ...  2020-07-31T18:47:00.0000000Z\n",
            "\n",
            "[5 rows x 6 columns]\n",
            "\n",
            "\n",
            " blogs sheet data types\n",
            " _id              int64\n",
            "theme           object\n",
            "source          object\n",
            "title           object\n",
            "description     object\n",
            "published_on    object\n",
            "dtype: object\n"
          ],
          "name": "stdout"
        }
      ]
    },
    {
      "cell_type": "code",
      "metadata": {
        "id": "SX0gMzV8hLW2",
        "colab_type": "code",
        "colab": {
          "base_uri": "https://localhost:8080/",
          "height": 204
        },
        "outputId": "a3ae1c2b-67ce-4947-9b61-8622ab3a8d9f"
      },
      "source": [
        "print(\"output sheet\", output.head())\n",
        "print(\"\\n\\n output sheet data types\\n\", output.dtypes)"
      ],
      "execution_count": 75,
      "outputs": [
        {
          "output_type": "stream",
          "text": [
            "output sheet Empty DataFrame\n",
            "Columns: [blog_id, title, description, company_ids]\n",
            "Index: []\n",
            "\n",
            "\n",
            " output sheet data types\n",
            " blog_id        object\n",
            "title          object\n",
            "description    object\n",
            "company_ids    object\n",
            "dtype: object\n"
          ],
          "name": "stdout"
        }
      ]
    },
    {
      "cell_type": "code",
      "metadata": {
        "id": "WhQVN_q0lrj0",
        "colab_type": "code",
        "colab": {}
      },
      "source": [
        "\n",
        "def dictionary_with_title_description(df):\n",
        "  \" This function will return dictionaries containing blog id, company names from title, and company name from description\"\n",
        "  \n",
        "  # company_names_title = {} # initialising empty dictionary for company names extracted from title\n",
        "  company_names_description = {} # initialising empty dictionary for company names extracted from description\n",
        "  # descriptionDict = {} # {index : [blog_id, title, description], index_2 : ...}\n",
        "  \n",
        "  # for i in range(0, len(df)):\n",
        "    \n",
        "    # descriptionDict.setdefault(i, [])\n",
        "    # # The magic of setdefault is that it initializes the value for that key if that key is not defined, otherwise it does nothing.\n",
        "    # descriptionDict[i].append(df.loc[i, \"_id\"]) # will be adding multiple values in a single key (Here, adding _id)\n",
        "\n",
        "    # #  title\n",
        "    # descriptionDict.setdefault(i, [])\n",
        "    # descriptionDict[i].append(df.loc[i, \"title\"]) # adding title as value in dictionay\n",
        "\n",
        "    # # description\n",
        "    # descriptionDict.setdefault(i, [])\n",
        "    # descriptionDict[i].append(df.loc[i, \"description\"]) #adding description as value in the dictionary\n",
        "\n",
        "  for i in range(0, len(df)):\n",
        "    doc = nlp(df.loc[i, \"description\"])\n",
        "\n",
        "  #   for X in doc.ents:\n",
        "  #     #print((X.text, X.label_, type(X.text), type(X.label_)))\n",
        "      \n",
        "  #     if X.label_ == 'ORG':\n",
        "\n",
        "  #       company_names_description.setdefault(descriptionDict[i][0], [])\n",
        "  #       company_names_description[descriptionDict[i][0]].append(X.text)\n",
        "\n",
        "  #       # company_names_description.update({descriptionDict[i][0]:X.text})\n",
        "\n",
        "  # print(\"company_names FROM description - \",company_names_description)\n",
        "\n",
        "  # for i in range(0, len(df)):\n",
        "  #   titl = nlp(descriptionDict[i][1])\n",
        "    \n",
        "    for X in doc.ents:\n",
        "      #print((X.text, X.label_, type(X.text), type(X.label_)))\n",
        "      \n",
        "      if X.label_ == 'ORG':\n",
        "        # company_names_title.update({descriptionDict[i][0]:X.text})\n",
        "\n",
        "        company_names_description.setdefault(df.loc[i, \"_id\"], [])\n",
        "        company_names_description[df.loc[i, \"_id\"]].append(X.text)\n",
        "  print(\"Company names extracted from News Description : \\n\",company_names_description)\n",
        "\n",
        "\n",
        "  return company_names_description"
      ],
      "execution_count": 76,
      "outputs": []
    },
    {
      "cell_type": "code",
      "metadata": {
        "id": "fmQS4ClKI5eK",
        "colab_type": "code",
        "colab": {
          "base_uri": "https://localhost:8080/",
          "height": 71
        },
        "outputId": "5f39ef9a-a9ad-44b6-abb4-400ced279540"
      },
      "source": [
        "company_names_description = dictionary_with_title_description(blogs)"
      ],
      "execution_count": 77,
      "outputs": [
        {
          "output_type": "stream",
          "text": [
            "Company names extracted from News Description : \n",
            " {1: ['Xpeng Motors', 'Tesla', 'CNBC'], 3: ['Lemonaid Health', 'Olive Tree Ventures'], 4: ['United Community Banks', 'UCBI', 'ValuEngine', 'ValuEngine'], 5: ['Golden West Food Group', 'Cooks Venture'], 6: ['Amazon'], 7: ['XBiotech'], 8: ['Kodak'], 11: ['Apple'], 12: ['Microsoft', 'White House'], 13: [\"SoftBank Group's\", 'Arm Holdings', 'Bloomberg'], 14: ['Microsoft', 'TikTok', 'app'], 15: ['State', 'TikTok'], 17: ['Arm Holdings'], 18: ['Alta Equipment Group Inc.', 'Martin Implement Sales Inc.'], 19: ['Alta Equipment Group', 'NYSE', 'ALTG', 'Martin Implement Sales', 'Martin'], 20: ['Advent International', 'RA Chem Pharma', 'Micro Labs Limited'], 21: ['Gencor Industries, Inc.', 'œGencor', 'NASDAQ', 'Volvo CE'], 22: ['Microsoft', 'TikTok'], 23: ['Bloomberg', 'Nvidia Corp.', 'Arm Ltd.', 'SoftBank Group Corp.'], 24: ['Microsoft', 'TikTok'], 25: ['PAI Partners', 'Amplitude Surgical'], 26: ['TikTok', 'TikTok', 'State', 'TikTok'], 27: ['Microsoft', 'Bloomberg'], 28: ['SinglePoint Inc.', 'Direct Solar of America'], 29: ['TikTok'], 30: ['Microsoft', 'TikTok'], 32: ['Trump', 'TikTok'], 33: ['Microsoft Corp.', 'Microsoft'], 34: ['Microsoft', 'TikTok'], 35: ['Microsoft', 'TikTok', 'TikTok'], 36: ['Nokia', 'Vecima'], 37: ['SoftBank', 'ARM', 'the Financial Times'], 39: ['Multi Service Technology Solutions', 'MSTS', 'Corsair Capital'], 41: ['Legg Mason,', 'NYSE'], 42: ['The European Commission', 'Bombardier'], 43: ['NYSE', 'FCPT'], 44: ['SEC'], 45: ['KKR', 'MasterDss', 'KKR'], 46: ['Morgan Stanley', 'National Research Co.', 'NASDAQ', 'NRC', 'the Securities & Exchange Commission'], 47: ['RA Chem Pharma'], 48: ['IPS Cable Systems', 'Seacom', 'the Comesa Competition Commission'], 49: ['XCMG'], 50: ['AAPL', 'Apple'], 51: ['Xencor, Inc.', 'NASDAQ', 'XNCR'], 52: ['the Iowa Disposal Assistance Program'], 53: ['Editas Medicine, Inc.', 'Catalent'], 54: ['L3Harris Technologies', 'NYSE', 'EOTech', 'American Holoptics', 'Koucar Management'], 55: ['Onosys', 'ItsaCheckmate', 'POS'], 56: ['Finance & Treasury', 'CFO'], 57: ['Goldman Sachs'], 58: ['The National Institutes of Health'], 59: [\"Access Business Technologies'\", 'MortgageExchange'], 60: ['TTM Technologies', 'BidaskClub'], 61: ['Compulink Technolog', 'Compulink Technologies', 'USNY', 'Freshservice ITSM'], 62: ['Aristocrat Technologies', 'Dragon Link', 'Seminole Hard Rock Hotel & Casino Tampa'], 63: ['The Dance Academy of Loudoun'], 64: ['Tyson Foods', 'The state Department of Community and Economic Development'], 65: ['Medicaid', 'Nebraska', 'Medicaid', 'healthcare'], 68: ['PG&E'], 69: ['the Board of Directors'], 70: [\"Lloyd's of London\"], 71: ['Huawei'], 72: ['ByteDance'], 73: ['Rabo AgriFinances ag'], 74: ['Tech Community College', 'Kristen Schunk Moreland', 'Change Management', 'Strate'], 75: ['Dominion Energy'], 76: ['Dominion Energy'], 77: ['Dominion Energy'], 78: ['Amul'], 79: ['MediaBrains'], 80: ['Spectrum Networks', 'the Spectrum News App', 'The Spectrum News App'], 81: ['Fidelity', 'Avocado'], 82: ['Security Labs Community Edition'], 83: ['Walton'], 84: ['NASA'], 86: ['Globant SA', 'NYSE', 'the Continuity Studio'], 87: ['Ineos Hygienics'], 88: [\"Domino's Pizza\"], 89: ['Dominos Pizza', 'CMO'], 90: ['Cielo', 'Bridgestone Americas'], 91: ['ANN', 'MICH', 'Dominos Pizza,'], 92: ['the Behavioral Health Docket Team', 'Diana Fetterer'], 93: ['McDermott Will & Emery'], 94: ['Starwood Energy Group Global', 'LLC'], 95: ['Coplin Health Systems', 'Wirt County Family Care', 'Walker'], 96: ['Cores'], 97: ['Capitol Federal Financial', 'Board of Directors', 'the Size of Board'], 99: ['Durante Rentals', 'Liam'], 100: ['The Pakistan Cricket Board', 'PCB', 'CFO', 'the Board of Governors'], 101: ['Zilliqa'], 102: ['the Marvell Board', 'Marvell'], 103: ['StoneLock'], 104: ['Ross'], 105: ['Brand, Communications and Marketing', 'the Group Leadership Team'], 106: ['Acutus Medical'], 107: ['Checkmate Pharmaceuticals'], 108: ['Eventbrite Inc.'], 109: ['AlloVir'], 111: ['Vital Farms Inc.'], 112: ['Whole Foods', 'Nasdaq'], 113: ['ESSA Pharma Inc.']}\n"
          ],
          "name": "stdout"
        }
      ]
    },
    {
      "cell_type": "code",
      "metadata": {
        "id": "h4StonD_jbCU",
        "colab_type": "code",
        "colab": {
          "base_uri": "https://localhost:8080/",
          "height": 71
        },
        "outputId": "acd7a5c8-7c75-46dc-99b1-ccb59a2a5c4e"
      },
      "source": [
        "company_names_description_new = {}\n",
        "for key, value in company_names_description.items():\n",
        "\n",
        "  for j in range(0, len(value)):\n",
        "    \n",
        "    company_names_description_new[value[j]] = key\n",
        "\n",
        "print(\"New Swapped Dictionary : \\n\", company_names_description_new)"
      ],
      "execution_count": 78,
      "outputs": [
        {
          "output_type": "stream",
          "text": [
            "New Swapped Dictionary : \n",
            " {'Xpeng Motors': 1, 'Tesla': 1, 'CNBC': 1, 'Lemonaid Health': 3, 'Olive Tree Ventures': 3, 'United Community Banks': 4, 'UCBI': 4, 'ValuEngine': 4, 'Golden West Food Group': 5, 'Cooks Venture': 5, 'Amazon': 6, 'XBiotech': 7, 'Kodak': 8, 'Apple': 50, 'Microsoft': 35, 'White House': 12, \"SoftBank Group's\": 13, 'Arm Holdings': 17, 'Bloomberg': 27, 'TikTok': 35, 'app': 14, 'State': 26, 'Alta Equipment Group Inc.': 18, 'Martin Implement Sales Inc.': 18, 'Alta Equipment Group': 19, 'NYSE': 86, 'ALTG': 19, 'Martin Implement Sales': 19, 'Martin': 19, 'Advent International': 20, 'RA Chem Pharma': 47, 'Micro Labs Limited': 20, 'Gencor Industries, Inc.': 21, 'œGencor': 21, 'NASDAQ': 51, 'Volvo CE': 21, 'Nvidia Corp.': 23, 'Arm Ltd.': 23, 'SoftBank Group Corp.': 23, 'PAI Partners': 25, 'Amplitude Surgical': 25, 'SinglePoint Inc.': 28, 'Direct Solar of America': 28, 'Trump': 32, 'Microsoft Corp.': 33, 'Nokia': 36, 'Vecima': 36, 'SoftBank': 37, 'ARM': 37, 'the Financial Times': 37, 'Multi Service Technology Solutions': 39, 'MSTS': 39, 'Corsair Capital': 39, 'Legg Mason,': 41, 'The European Commission': 42, 'Bombardier': 42, 'FCPT': 43, 'SEC': 44, 'KKR': 45, 'MasterDss': 45, 'Morgan Stanley': 46, 'National Research Co.': 46, 'NRC': 46, 'the Securities & Exchange Commission': 46, 'IPS Cable Systems': 48, 'Seacom': 48, 'the Comesa Competition Commission': 48, 'XCMG': 49, 'AAPL': 50, 'Xencor, Inc.': 51, 'XNCR': 51, 'the Iowa Disposal Assistance Program': 52, 'Editas Medicine, Inc.': 53, 'Catalent': 53, 'L3Harris Technologies': 54, 'EOTech': 54, 'American Holoptics': 54, 'Koucar Management': 54, 'Onosys': 55, 'ItsaCheckmate': 55, 'POS': 55, 'Finance & Treasury': 56, 'CFO': 100, 'Goldman Sachs': 57, 'The National Institutes of Health': 58, \"Access Business Technologies'\": 59, 'MortgageExchange': 59, 'TTM Technologies': 60, 'BidaskClub': 60, 'Compulink Technolog': 61, 'Compulink Technologies': 61, 'USNY': 61, 'Freshservice ITSM': 61, 'Aristocrat Technologies': 62, 'Dragon Link': 62, 'Seminole Hard Rock Hotel & Casino Tampa': 62, 'The Dance Academy of Loudoun': 63, 'Tyson Foods': 64, 'The state Department of Community and Economic Development': 64, 'Medicaid': 65, 'Nebraska': 65, 'healthcare': 65, 'PG&E': 68, 'the Board of Directors': 69, \"Lloyd's of London\": 70, 'Huawei': 71, 'ByteDance': 72, 'Rabo AgriFinances ag': 73, 'Tech Community College': 74, 'Kristen Schunk Moreland': 74, 'Change Management': 74, 'Strate': 74, 'Dominion Energy': 77, 'Amul': 78, 'MediaBrains': 79, 'Spectrum Networks': 80, 'the Spectrum News App': 80, 'The Spectrum News App': 80, 'Fidelity': 81, 'Avocado': 81, 'Security Labs Community Edition': 82, 'Walton': 83, 'NASA': 84, 'Globant SA': 86, 'the Continuity Studio': 86, 'Ineos Hygienics': 87, \"Domino's Pizza\": 88, 'Dominos Pizza': 89, 'CMO': 89, 'Cielo': 90, 'Bridgestone Americas': 90, 'ANN': 91, 'MICH': 91, 'Dominos Pizza,': 91, 'the Behavioral Health Docket Team': 92, 'Diana Fetterer': 92, 'McDermott Will & Emery': 93, 'Starwood Energy Group Global': 94, 'LLC': 94, 'Coplin Health Systems': 95, 'Wirt County Family Care': 95, 'Walker': 95, 'Cores': 96, 'Capitol Federal Financial': 97, 'Board of Directors': 97, 'the Size of Board': 97, 'Durante Rentals': 99, 'Liam': 99, 'The Pakistan Cricket Board': 100, 'PCB': 100, 'the Board of Governors': 100, 'Zilliqa': 101, 'the Marvell Board': 102, 'Marvell': 102, 'StoneLock': 103, 'Ross': 104, 'Brand, Communications and Marketing': 105, 'the Group Leadership Team': 105, 'Acutus Medical': 106, 'Checkmate Pharmaceuticals': 107, 'Eventbrite Inc.': 108, 'AlloVir': 109, 'Vital Farms Inc.': 111, 'Whole Foods': 112, 'Nasdaq': 112, 'ESSA Pharma Inc.': 113}\n"
          ],
          "name": "stdout"
        }
      ]
    },
    {
      "cell_type": "code",
      "metadata": {
        "id": "0KBtEHCTl7_s",
        "colab_type": "code",
        "colab": {}
      },
      "source": [
        "# !pip3 install fuzzywuzzy\n",
        "# !pip3 install python-Levenshtein"
      ],
      "execution_count": 79,
      "outputs": []
    },
    {
      "cell_type": "code",
      "metadata": {
        "id": "WoURugkbl2MF",
        "colab_type": "code",
        "colab": {}
      },
      "source": [
        "from fuzzywuzzy import fuzz"
      ],
      "execution_count": 80,
      "outputs": []
    },
    {
      "cell_type": "code",
      "metadata": {
        "id": "bwssDbCSnKmo",
        "colab_type": "code",
        "colab": {}
      },
      "source": [
        "final_dictionary = {}\n",
        "\n",
        "for key, val in company_names_description_new.items():\n",
        "\n",
        "  for i in range(0 , len(master)):\n",
        "\n",
        "    if fuzz.WRatio(key, master.loc[i, \"name\"]) > 70:\n",
        "\n",
        "      final_dictionary.setdefault(val,[])\n",
        "      final_dictionary[val].append(master.loc[i, \"_id\"])"
      ],
      "execution_count": 81,
      "outputs": []
    },
    {
      "cell_type": "code",
      "metadata": {
        "id": "DYtkJFP6M6rX",
        "colab_type": "code",
        "colab": {
          "base_uri": "https://localhost:8080/",
          "height": 34
        },
        "outputId": "5769ee58-abf8-43cd-e808-bcaf8cb2b55a"
      },
      "source": [
        "len(final_dictionary)"
      ],
      "execution_count": 82,
      "outputs": [
        {
          "output_type": "execute_result",
          "data": {
            "text/plain": [
              "44"
            ]
          },
          "metadata": {
            "tags": []
          },
          "execution_count": 82
        }
      ]
    },
    {
      "cell_type": "code",
      "metadata": {
        "id": "SWNU6lXYyHUH",
        "colab_type": "code",
        "colab": {
          "base_uri": "https://localhost:8080/",
          "height": 620
        },
        "outputId": "4e0dd370-8ffd-41bb-bc5e-44ff9168d067"
      },
      "source": [
        "blogs.set_index(\"_id\")"
      ],
      "execution_count": 83,
      "outputs": [
        {
          "output_type": "execute_result",
          "data": {
            "text/html": [
              "<div>\n",
              "<style scoped>\n",
              "    .dataframe tbody tr th:only-of-type {\n",
              "        vertical-align: middle;\n",
              "    }\n",
              "\n",
              "    .dataframe tbody tr th {\n",
              "        vertical-align: top;\n",
              "    }\n",
              "\n",
              "    .dataframe thead th {\n",
              "        text-align: right;\n",
              "    }\n",
              "</style>\n",
              "<table border=\"1\" class=\"dataframe\">\n",
              "  <thead>\n",
              "    <tr style=\"text-align: right;\">\n",
              "      <th></th>\n",
              "      <th>theme</th>\n",
              "      <th>source</th>\n",
              "      <th>title</th>\n",
              "      <th>description</th>\n",
              "      <th>published_on</th>\n",
              "    </tr>\n",
              "    <tr>\n",
              "      <th>_id</th>\n",
              "      <th></th>\n",
              "      <th></th>\n",
              "      <th></th>\n",
              "      <th></th>\n",
              "      <th></th>\n",
              "    </tr>\n",
              "  </thead>\n",
              "  <tbody>\n",
              "    <tr>\n",
              "      <th>1</th>\n",
              "      <td>funding</td>\n",
              "      <td>bing</td>\n",
              "      <td>Chinese Tesla rival Xpeng Motors in talks over...</td>\n",
              "      <td>Xpeng Motors, one of Tesla's rivals in China, ...</td>\n",
              "      <td>2020-07-31T15:41:00.0000000Z</td>\n",
              "    </tr>\n",
              "    <tr>\n",
              "      <th>2</th>\n",
              "      <td>funding</td>\n",
              "      <td>bing</td>\n",
              "      <td>Wine.com Seeks Funding at Valuation of More Th...</td>\n",
              "      <td>Wine.com, an online retailer that lets custome...</td>\n",
              "      <td>2020-08-01T00:02:00.0000000Z</td>\n",
              "    </tr>\n",
              "    <tr>\n",
              "      <th>3</th>\n",
              "      <td>funding</td>\n",
              "      <td>bing</td>\n",
              "      <td>Fenwick-Led Telehealth Co. Raises $33M As Indu...</td>\n",
              "      <td>Fenwick-advised telehealth platform Lemonaid H...</td>\n",
              "      <td>2020-07-31T22:36:00.0000000Z</td>\n",
              "    </tr>\n",
              "    <tr>\n",
              "      <th>4</th>\n",
              "      <td>funding</td>\n",
              "      <td>bing</td>\n",
              "      <td>United Community Banks (NASDAQ:UCBI) Raised to...</td>\n",
              "      <td>United Community Banks (NASDAQ:UCBI) was upgra...</td>\n",
              "      <td>2020-08-01T06:29:00.0000000Z</td>\n",
              "    </tr>\n",
              "    <tr>\n",
              "      <th>5</th>\n",
              "      <td>funding</td>\n",
              "      <td>bing</td>\n",
              "      <td>Golden West Food Group, Cooks Venture Raise $1...</td>\n",
              "      <td>PRNewswire/ -- Golden West Food Group and Cook...</td>\n",
              "      <td>2020-07-31T18:47:00.0000000Z</td>\n",
              "    </tr>\n",
              "    <tr>\n",
              "      <th>...</th>\n",
              "      <td>...</td>\n",
              "      <td>...</td>\n",
              "      <td>...</td>\n",
              "      <td>...</td>\n",
              "      <td>...</td>\n",
              "    </tr>\n",
              "    <tr>\n",
              "      <th>109</th>\n",
              "      <td>ipos</td>\n",
              "      <td>bing</td>\n",
              "      <td>AlloVir raises $276M IPO to run broad cell the...</td>\n",
              "      <td>AlloVir has raised $276 million in an upsized ...</td>\n",
              "      <td>2020-07-31T12:25:00.0000000Z</td>\n",
              "    </tr>\n",
              "    <tr>\n",
              "      <th>110</th>\n",
              "      <td>ipos</td>\n",
              "      <td>bing</td>\n",
              "      <td>Exclusive: SenseTime eyes STAR market IPO afte...</td>\n",
              "      <td>Chinese start-up SenseTime is considering an i...</td>\n",
              "      <td>2020-07-31T10:48:00.0000000Z</td>\n",
              "    </tr>\n",
              "    <tr>\n",
              "      <th>111</th>\n",
              "      <td>ipos</td>\n",
              "      <td>bing</td>\n",
              "      <td>Vital Farms shares soar 63% in trading debut a...</td>\n",
              "      <td>Shares of ethical food company Vital Farms Inc...</td>\n",
              "      <td>2020-07-31T16:45:00.0000000Z</td>\n",
              "    </tr>\n",
              "    <tr>\n",
              "      <th>112</th>\n",
              "      <td>ipos</td>\n",
              "      <td>bing</td>\n",
              "      <td>Conscious agribusiness Vital Farms goes public</td>\n",
              "      <td>You can find their eggs in Whole Foods, Walmar...</td>\n",
              "      <td>2020-07-31T20:26:00.0000000Z</td>\n",
              "    </tr>\n",
              "    <tr>\n",
              "      <th>113</th>\n",
              "      <td>ipos</td>\n",
              "      <td>bing</td>\n",
              "      <td>ESSA Pharma Completes Public Offering for Aggr...</td>\n",
              "      <td>ESSA Pharma Inc. (\"ESSA\", or the \"Company\") (N...</td>\n",
              "      <td>2020-07-31T14:21:00.0000000Z</td>\n",
              "    </tr>\n",
              "  </tbody>\n",
              "</table>\n",
              "<p>113 rows × 5 columns</p>\n",
              "</div>"
            ],
            "text/plain": [
              "       theme  ...                  published_on\n",
              "_id           ...                              \n",
              "1    funding  ...  2020-07-31T15:41:00.0000000Z\n",
              "2    funding  ...  2020-08-01T00:02:00.0000000Z\n",
              "3    funding  ...  2020-07-31T22:36:00.0000000Z\n",
              "4    funding  ...  2020-08-01T06:29:00.0000000Z\n",
              "5    funding  ...  2020-07-31T18:47:00.0000000Z\n",
              "..       ...  ...                           ...\n",
              "109     ipos  ...  2020-07-31T12:25:00.0000000Z\n",
              "110     ipos  ...  2020-07-31T10:48:00.0000000Z\n",
              "111     ipos  ...  2020-07-31T16:45:00.0000000Z\n",
              "112     ipos  ...  2020-07-31T20:26:00.0000000Z\n",
              "113     ipos  ...  2020-07-31T14:21:00.0000000Z\n",
              "\n",
              "[113 rows x 5 columns]"
            ]
          },
          "metadata": {
            "tags": []
          },
          "execution_count": 83
        }
      ]
    },
    {
      "cell_type": "code",
      "metadata": {
        "id": "Wrb-g1ElpMQC",
        "colab_type": "code",
        "colab": {
          "base_uri": "https://localhost:8080/",
          "height": 71
        },
        "outputId": "5c5c09c5-de53-4ed9-db85-3d4b46a79ac2"
      },
      "source": [
        "print(\"final dictionary in format {'blog_id': 'company ids'}\\n\", final_dictionary)"
      ],
      "execution_count": 84,
      "outputs": [
        {
          "output_type": "stream",
          "text": [
            "final dictionary in format {'blog_id': 'company ids'}\n",
            " {1: [31, 32], 4: [34], 5: [35], 6: [36], 7: [38], 8: [40], 35: [41, 46], 13: [25], 18: [43], 19: [43], 21: [44, 44], 23: [42, 26, 34], 25: [45], 28: [10], 33: [41], 36: [16], 39: [3, 2], 41: [5], 46: [7], 49: [6], 51: [10, 44], 53: [8, 9], 54: [11, 12, 27, 38], 59: [12, 27], 60: [10, 11, 12, 14, 27], 61: [14, 12, 14, 27], 62: [11, 12, 27], 64: [34], 77: [17], 78: [29], 81: [18], 88: [19], 89: [19], 90: [28], 91: [19], 94: [2], 96: [2], 101: [26], 102: [25], 107: [22], 108: [10, 21], 109: [20], 111: [10], 113: [10]}\n"
          ],
          "name": "stdout"
        }
      ]
    },
    {
      "cell_type": "code",
      "metadata": {
        "id": "ykWbBVlwv_t3",
        "colab_type": "code",
        "colab": {
          "base_uri": "https://localhost:8080/",
          "height": 34
        },
        "outputId": "a1e09622-f26f-4738-9b3e-9bae4402a0e4"
      },
      "source": [
        "try:\n",
        "  \n",
        "  for k, v in final_dictionary.items():\n",
        "    \n",
        "    new_row = {'blog_id':k, 'title': blogs[\"title\"][k], 'description': blogs[\"description\"][k], 'company_ids': final_dictionary[k]}\n",
        "    output = output.append(new_row, ignore_index=True)\n",
        "\n",
        "except Exception as e :\n",
        "  print(e)"
      ],
      "execution_count": 85,
      "outputs": [
        {
          "output_type": "stream",
          "text": [
            "113\n"
          ],
          "name": "stdout"
        }
      ]
    },
    {
      "cell_type": "code",
      "metadata": {
        "id": "hKgiSHHz5OHo",
        "colab_type": "code",
        "colab": {
          "base_uri": "https://localhost:8080/",
          "height": 34
        },
        "outputId": "1d1b51cb-4d30-4ed1-a4c0-d61817a643c2"
      },
      "source": [
        "len(output)"
      ],
      "execution_count": 86,
      "outputs": [
        {
          "output_type": "execute_result",
          "data": {
            "text/plain": [
              "43"
            ]
          },
          "metadata": {
            "tags": []
          },
          "execution_count": 86
        }
      ]
    },
    {
      "cell_type": "code",
      "metadata": {
        "id": "4NLVuXs8qoTG",
        "colab_type": "code",
        "colab": {
          "base_uri": "https://localhost:8080/",
          "height": 1000
        },
        "outputId": "67524868-c1a9-453f-d80f-7fa79613f0c2"
      },
      "source": [
        "output"
      ],
      "execution_count": 87,
      "outputs": [
        {
          "output_type": "execute_result",
          "data": {
            "text/html": [
              "<div>\n",
              "<style scoped>\n",
              "    .dataframe tbody tr th:only-of-type {\n",
              "        vertical-align: middle;\n",
              "    }\n",
              "\n",
              "    .dataframe tbody tr th {\n",
              "        vertical-align: top;\n",
              "    }\n",
              "\n",
              "    .dataframe thead th {\n",
              "        text-align: right;\n",
              "    }\n",
              "</style>\n",
              "<table border=\"1\" class=\"dataframe\">\n",
              "  <thead>\n",
              "    <tr style=\"text-align: right;\">\n",
              "      <th></th>\n",
              "      <th>blog_id</th>\n",
              "      <th>title</th>\n",
              "      <th>description</th>\n",
              "      <th>company_ids</th>\n",
              "    </tr>\n",
              "  </thead>\n",
              "  <tbody>\n",
              "    <tr>\n",
              "      <th>0</th>\n",
              "      <td>1</td>\n",
              "      <td>Wine.com Seeks Funding at Valuation of More Th...</td>\n",
              "      <td>Wine.com, an online retailer that lets custome...</td>\n",
              "      <td>[31, 32]</td>\n",
              "    </tr>\n",
              "    <tr>\n",
              "      <th>1</th>\n",
              "      <td>4</td>\n",
              "      <td>Golden West Food Group, Cooks Venture Raise $1...</td>\n",
              "      <td>PRNewswire/ -- Golden West Food Group and Cook...</td>\n",
              "      <td>[34]</td>\n",
              "    </tr>\n",
              "    <tr>\n",
              "      <th>2</th>\n",
              "      <td>5</td>\n",
              "      <td>Amazon Analysts Raise Price Targets After Stel...</td>\n",
              "      <td>Consumers flocked to Amazon for shopping, as t...</td>\n",
              "      <td>[35]</td>\n",
              "    </tr>\n",
              "    <tr>\n",
              "      <th>3</th>\n",
              "      <td>6</td>\n",
              "      <td>XBiotech: Well Funded, Working On The Next Ber...</td>\n",
              "      <td>XBiotech develops True Humanâ„¢ (naturally occ...</td>\n",
              "      <td>[36]</td>\n",
              "    </tr>\n",
              "    <tr>\n",
              "      <th>4</th>\n",
              "      <td>7</td>\n",
              "      <td>Kodak boss took out stock options day before f...</td>\n",
              "      <td>Kodak CEO, Jim Continenza (above) was awarded ...</td>\n",
              "      <td>[38]</td>\n",
              "    </tr>\n",
              "    <tr>\n",
              "      <th>5</th>\n",
              "      <td>8</td>\n",
              "      <td>Mammoth Energy Services' (TUSK) CEO Arty Strae...</td>\n",
              "      <td>Q2 2020 Earnings Conference Call July 30, 2020...</td>\n",
              "      <td>[40]</td>\n",
              "    </tr>\n",
              "    <tr>\n",
              "      <th>6</th>\n",
              "      <td>35</td>\n",
              "      <td>Vecima Networks to Acquire DOCSIS DAA and EPON...</td>\n",
              "      <td>Nokia and Vecima Networks this week announced ...</td>\n",
              "      <td>[41, 46]</td>\n",
              "    </tr>\n",
              "    <tr>\n",
              "      <th>7</th>\n",
              "      <td>13</td>\n",
              "      <td>Microsoft in talks to acquire TikTok, reports say</td>\n",
              "      <td>Microsoft is reportedly in talks to acquire Ti...</td>\n",
              "      <td>[25]</td>\n",
              "    </tr>\n",
              "    <tr>\n",
              "      <th>8</th>\n",
              "      <td>18</td>\n",
              "      <td>Alta Equipment to acquire Martin Implement Sales</td>\n",
              "      <td>Alta Equipment Group (NYSE:ALTG) announcesÂ an...</td>\n",
              "      <td>[43]</td>\n",
              "    </tr>\n",
              "    <tr>\n",
              "      <th>9</th>\n",
              "      <td>19</td>\n",
              "      <td>Advent to acquire RA Chem Pharma</td>\n",
              "      <td>Advent International has agreed to acquire a c...</td>\n",
              "      <td>[43]</td>\n",
              "    </tr>\n",
              "    <tr>\n",
              "      <th>10</th>\n",
              "      <td>21</td>\n",
              "      <td>Microsoft could acquire TikTok's U.S. operations</td>\n",
              "      <td>Microsoft is reportedly in talks to purchase t...</td>\n",
              "      <td>[44, 44]</td>\n",
              "    </tr>\n",
              "    <tr>\n",
              "      <th>11</th>\n",
              "      <td>23</td>\n",
              "      <td>Microsoft in talks to acquire TikTok, say reports</td>\n",
              "      <td>A number of credible reports are emerging toda...</td>\n",
              "      <td>[42, 26, 34]</td>\n",
              "    </tr>\n",
              "    <tr>\n",
              "      <th>12</th>\n",
              "      <td>25</td>\n",
              "      <td>Microsoft Reportedly In Talks To Acquire TikTo...</td>\n",
              "      <td>We may be banning TikTok. We are looking at a ...</td>\n",
              "      <td>[45]</td>\n",
              "    </tr>\n",
              "    <tr>\n",
              "      <th>13</th>\n",
              "      <td>28</td>\n",
              "      <td>Report says Microsoft in talks to acquire TikT...</td>\n",
              "      <td>Media reports also said the Trump administrati...</td>\n",
              "      <td>[10]</td>\n",
              "    </tr>\n",
              "    <tr>\n",
              "      <th>14</th>\n",
              "      <td>33</td>\n",
              "      <td>Microsoft plans to acquire TikTok's US operati...</td>\n",
              "      <td>Technology giant Microsoft is in advance talks...</td>\n",
              "      <td>[41]</td>\n",
              "    </tr>\n",
              "    <tr>\n",
              "      <th>15</th>\n",
              "      <td>36</td>\n",
              "      <td>Nvidia in Advanced Talks to Acquire SoftBank-o...</td>\n",
              "      <td>US chip-maker Nvidia is reportedly in advance ...</td>\n",
              "      <td>[16]</td>\n",
              "    </tr>\n",
              "    <tr>\n",
              "      <th>16</th>\n",
              "      <td>39</td>\n",
              "      <td>Microsoft Said to Be Exploring TikTok Acquisition</td>\n",
              "      <td>The app, which has been downloaded more than 2...</td>\n",
              "      <td>[3, 2]</td>\n",
              "    </tr>\n",
              "    <tr>\n",
              "      <th>17</th>\n",
              "      <td>41</td>\n",
              "      <td>EU clears Alstom's acquisition of Bombardier r...</td>\n",
              "      <td>The European Commission has cleared the acquis...</td>\n",
              "      <td>[5]</td>\n",
              "    </tr>\n",
              "    <tr>\n",
              "      <th>18</th>\n",
              "      <td>46</td>\n",
              "      <td>Advent International to acquire 60 percent sta...</td>\n",
              "      <td>Though Advent did not provide any financial de...</td>\n",
              "      <td>[7]</td>\n",
              "    </tr>\n",
              "    <tr>\n",
              "      <th>19</th>\n",
              "      <td>49</td>\n",
              "      <td>Wedbush raises AAPL target to $475 after earni...</td>\n",
              "      <td>Investment bank Wedbush is raising its AAPL pr...</td>\n",
              "      <td>[6]</td>\n",
              "    </tr>\n",
              "    <tr>\n",
              "      <th>20</th>\n",
              "      <td>51</td>\n",
              "      <td>Minnesota company gets most aid in Iowa hog di...</td>\n",
              "      <td>Christensen Farms, one of the nations largest ...</td>\n",
              "      <td>[10, 44]</td>\n",
              "    </tr>\n",
              "    <tr>\n",
              "      <th>21</th>\n",
              "      <td>53</td>\n",
              "      <td>L3Harris Technologies Completes Sale of EOTech...</td>\n",
              "      <td>L3Harris Technologies (NYSE:LHX) today complet...</td>\n",
              "      <td>[8, 9]</td>\n",
              "    </tr>\n",
              "    <tr>\n",
              "      <th>22</th>\n",
              "      <td>54</td>\n",
              "      <td>Onosys and ItsaCheckmate Integrate Technologie...</td>\n",
              "      <td>Onosys, the premier platform for restaurant di...</td>\n",
              "      <td>[11, 12, 27, 38]</td>\n",
              "    </tr>\n",
              "    <tr>\n",
              "      <th>23</th>\n",
              "      <td>59</td>\n",
              "      <td>TTM Technologies (NASDAQ:TTMI) Rating Increase...</td>\n",
              "      <td>TTM Technologies (NASDAQ:TTMI) was upgraded by...</td>\n",
              "      <td>[12, 27]</td>\n",
              "    </tr>\n",
              "    <tr>\n",
              "      <th>24</th>\n",
              "      <td>60</td>\n",
              "      <td>Compulink Technologies and Freshworks Streamli...</td>\n",
              "      <td>So, the college turned to IT solutions provide...</td>\n",
              "      <td>[10, 11, 12, 14, 27]</td>\n",
              "    </tr>\n",
              "    <tr>\n",
              "      <th>25</th>\n",
              "      <td>61</td>\n",
              "      <td>Aristocrat Technologies Upgraded Dragon Link t...</td>\n",
              "      <td>Aristocrat Technologies announced today its la...</td>\n",
              "      <td>[14, 12, 14, 27]</td>\n",
              "    </tr>\n",
              "    <tr>\n",
              "      <th>26</th>\n",
              "      <td>62</td>\n",
              "      <td>Dance Academy of Loudoun announces expansion, ...</td>\n",
              "      <td>The Dance Academy of Loudoun has announced it ...</td>\n",
              "      <td>[11, 12, 27]</td>\n",
              "    </tr>\n",
              "    <tr>\n",
              "      <th>27</th>\n",
              "      <td>64</td>\n",
              "      <td>Medicaid Expansion applications open August 1,...</td>\n",
              "      <td>Starting Saturday, roughly 90,000 Nebraskans c...</td>\n",
              "      <td>[34]</td>\n",
              "    </tr>\n",
              "    <tr>\n",
              "      <th>28</th>\n",
              "      <td>77</td>\n",
              "      <td>Amul doubles down on immunity boosting product...</td>\n",
              "      <td>Gujarat-based Amul has doubled down on its imm...</td>\n",
              "      <td>[17]</td>\n",
              "    </tr>\n",
              "    <tr>\n",
              "      <th>29</th>\n",
              "      <td>78</td>\n",
              "      <td>RPN launches improved Rubber News Directory in...</td>\n",
              "      <td>In conjunction with the launch, MediaBrains is...</td>\n",
              "      <td>[29]</td>\n",
              "    </tr>\n",
              "    <tr>\n",
              "      <th>30</th>\n",
              "      <td>81</td>\n",
              "      <td>Veracode Security Labs Community Edition launc...</td>\n",
              "      <td>Security company Veracode has announced it wil...</td>\n",
              "      <td>[18]</td>\n",
              "    </tr>\n",
              "    <tr>\n",
              "      <th>31</th>\n",
              "      <td>88</td>\n",
              "      <td>Dominos Pizza Promotes Art DElia to EVP and CMO</td>\n",
              "      <td>Dominos Pizza, the worlds largest pizza chain ...</td>\n",
              "      <td>[19]</td>\n",
              "    </tr>\n",
              "    <tr>\n",
              "      <th>32</th>\n",
              "      <td>89</td>\n",
              "      <td>Bridgestone promotes Cielo, Seidel to new corp...</td>\n",
              "      <td>Cielo replaces Erik Seidel, who has been named...</td>\n",
              "      <td>[19]</td>\n",
              "    </tr>\n",
              "    <tr>\n",
              "      <th>33</th>\n",
              "      <td>90</td>\n",
              "      <td>Dominos promotes DElia to CMO</td>\n",
              "      <td>ANN ARBOR, MICH.  Art DElia has been promoted ...</td>\n",
              "      <td>[28]</td>\n",
              "    </tr>\n",
              "    <tr>\n",
              "      <th>34</th>\n",
              "      <td>91</td>\n",
              "      <td>Fetterer Joins Arlington's Newly Formed Behavi...</td>\n",
              "      <td>Diana Fetterer joined the Behavioral Health Do...</td>\n",
              "      <td>[19]</td>\n",
              "    </tr>\n",
              "    <tr>\n",
              "      <th>35</th>\n",
              "      <td>94</td>\n",
              "      <td>Nichols joins Coplin Health Systems</td>\n",
              "      <td>Dr. Darrin E. Nichols has joined Coplin Health...</td>\n",
              "      <td>[2]</td>\n",
              "    </tr>\n",
              "    <tr>\n",
              "      <th>36</th>\n",
              "      <td>96</td>\n",
              "      <td>Capitol Federal Financial, Inc.Â® Appoints Car...</td>\n",
              "      <td>Capitol Federal Financial, Inc.Â® Appoints Car...</td>\n",
              "      <td>[2]</td>\n",
              "    </tr>\n",
              "    <tr>\n",
              "      <th>37</th>\n",
              "      <td>101</td>\n",
              "      <td>Marvell Appoints AT&amp;T's Marachel Knight to its...</td>\n",
              "      <td>We are thrilled to have Marachel join the Marv...</td>\n",
              "      <td>[26]</td>\n",
              "    </tr>\n",
              "    <tr>\n",
              "      <th>38</th>\n",
              "      <td>102</td>\n",
              "      <td>StoneLock Appoints Enterprise Security Trailbl...</td>\n",
              "      <td>Biometrics specialist StoneLock has promoted o...</td>\n",
              "      <td>[25]</td>\n",
              "    </tr>\n",
              "    <tr>\n",
              "      <th>39</th>\n",
              "      <td>107</td>\n",
              "      <td>Eventbrite co-founder joins 'blank check' IPO ...</td>\n",
              "      <td>Kevin Hartz, co-founder of Eventbrite Inc., fi...</td>\n",
              "      <td>[22]</td>\n",
              "    </tr>\n",
              "    <tr>\n",
              "      <th>40</th>\n",
              "      <td>108</td>\n",
              "      <td>AlloVir raises $276M IPO to run broad cell the...</td>\n",
              "      <td>AlloVir has raised $276 million in an upsized ...</td>\n",
              "      <td>[10, 21]</td>\n",
              "    </tr>\n",
              "    <tr>\n",
              "      <th>41</th>\n",
              "      <td>109</td>\n",
              "      <td>Exclusive: SenseTime eyes STAR market IPO afte...</td>\n",
              "      <td>Chinese start-up SenseTime is considering an i...</td>\n",
              "      <td>[20]</td>\n",
              "    </tr>\n",
              "    <tr>\n",
              "      <th>42</th>\n",
              "      <td>111</td>\n",
              "      <td>Conscious agribusiness Vital Farms goes public</td>\n",
              "      <td>You can find their eggs in Whole Foods, Walmar...</td>\n",
              "      <td>[10]</td>\n",
              "    </tr>\n",
              "  </tbody>\n",
              "</table>\n",
              "</div>"
            ],
            "text/plain": [
              "   blog_id  ...           company_ids\n",
              "0        1  ...              [31, 32]\n",
              "1        4  ...                  [34]\n",
              "2        5  ...                  [35]\n",
              "3        6  ...                  [36]\n",
              "4        7  ...                  [38]\n",
              "5        8  ...                  [40]\n",
              "6       35  ...              [41, 46]\n",
              "7       13  ...                  [25]\n",
              "8       18  ...                  [43]\n",
              "9       19  ...                  [43]\n",
              "10      21  ...              [44, 44]\n",
              "11      23  ...          [42, 26, 34]\n",
              "12      25  ...                  [45]\n",
              "13      28  ...                  [10]\n",
              "14      33  ...                  [41]\n",
              "15      36  ...                  [16]\n",
              "16      39  ...                [3, 2]\n",
              "17      41  ...                   [5]\n",
              "18      46  ...                   [7]\n",
              "19      49  ...                   [6]\n",
              "20      51  ...              [10, 44]\n",
              "21      53  ...                [8, 9]\n",
              "22      54  ...      [11, 12, 27, 38]\n",
              "23      59  ...              [12, 27]\n",
              "24      60  ...  [10, 11, 12, 14, 27]\n",
              "25      61  ...      [14, 12, 14, 27]\n",
              "26      62  ...          [11, 12, 27]\n",
              "27      64  ...                  [34]\n",
              "28      77  ...                  [17]\n",
              "29      78  ...                  [29]\n",
              "30      81  ...                  [18]\n",
              "31      88  ...                  [19]\n",
              "32      89  ...                  [19]\n",
              "33      90  ...                  [28]\n",
              "34      91  ...                  [19]\n",
              "35      94  ...                   [2]\n",
              "36      96  ...                   [2]\n",
              "37     101  ...                  [26]\n",
              "38     102  ...                  [25]\n",
              "39     107  ...                  [22]\n",
              "40     108  ...              [10, 21]\n",
              "41     109  ...                  [20]\n",
              "42     111  ...                  [10]\n",
              "\n",
              "[43 rows x 4 columns]"
            ]
          },
          "metadata": {
            "tags": []
          },
          "execution_count": 87
        }
      ]
    },
    {
      "cell_type": "code",
      "metadata": {
        "id": "ZIydqgqt4sCu",
        "colab_type": "code",
        "colab": {}
      },
      "source": [
        "output.to_csv(\"output-sheet_new_lg.csv\", index = False)"
      ],
      "execution_count": 89,
      "outputs": []
    },
    {
      "cell_type": "code",
      "metadata": {
        "id": "kyKL4gR9pPpS",
        "colab_type": "code",
        "colab": {}
      },
      "source": [
        ""
      ],
      "execution_count": 88,
      "outputs": []
    }
  ]
}