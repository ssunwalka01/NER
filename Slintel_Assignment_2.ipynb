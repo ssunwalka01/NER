{
  "nbformat": 4,
  "nbformat_minor": 0,
  "metadata": {
    "kernelspec": {
      "display_name": "Python 3",
      "language": "python",
      "name": "python3"
    },
    "language_info": {
      "codemirror_mode": {
        "name": "ipython",
        "version": 3
      },
      "file_extension": ".py",
      "mimetype": "text/x-python",
      "name": "python",
      "nbconvert_exporter": "python",
      "pygments_lexer": "ipython3",
      "version": "3.7.4"
    },
    "colab": {
      "name": "Slintel_Assignment_2.ipynb",
      "provenance": [],
      "collapsed_sections": [],
      "include_colab_link": true
    }
  },
  "cells": [
    {
      "cell_type": "markdown",
      "metadata": {
        "id": "view-in-github",
        "colab_type": "text"
      },
      "source": [
        "<a href=\"https://colab.research.google.com/github/ssunwalka01/NER/blob/master/Slintel_Assignment_2.ipynb\" target=\"_parent\"><img src=\"https://colab.research.google.com/assets/colab-badge.svg\" alt=\"Open In Colab\"/></a>"
      ]
    },
    {
      "cell_type": "markdown",
      "metadata": {
        "id": "m4JryurFGjvG",
        "colab_type": "text"
      },
      "source": [
        "- importing the libraries here..."
      ]
    },
    {
      "cell_type": "code",
      "metadata": {
        "id": "gVtvbWqdhLWl",
        "colab_type": "code",
        "colab": {}
      },
      "source": [
        "import nltk\n",
        "# nltk.download()\n",
        "import pandas as pd\n",
        "import spacy\n",
        "# from spacy import displacy\n",
        "# from collections import Counter\n",
        "import en_core_web_lg\n",
        "nlp = en_core_web_lg.load()"
      ],
      "execution_count": 420,
      "outputs": []
    },
    {
      "cell_type": "code",
      "metadata": {
        "id": "ZJdkNkhDVDmx",
        "colab_type": "code",
        "colab": {}
      },
      "source": [
        "# !python -m spacy download en_core_web_lg"
      ],
      "execution_count": 421,
      "outputs": []
    },
    {
      "cell_type": "code",
      "metadata": {
        "id": "eGFuuERhhLWo",
        "colab_type": "code",
        "colab": {}
      },
      "source": [
        "master = pd.read_csv(\"/content/master-company-sheet.csv\")\n",
        "blogs = pd.read_csv(\"/content/news-data.csv\")\n",
        "output = pd.read_csv(\"/content/output-sheet.csv\")"
      ],
      "execution_count": 422,
      "outputs": []
    },
    {
      "cell_type": "code",
      "metadata": {
        "id": "xPjXJkY-hLWt",
        "colab_type": "code",
        "colab": {
          "base_uri": "https://localhost:8080/",
          "height": 221
        },
        "outputId": "e7526826-01b6-42b7-bdba-879561e3ec5a"
      },
      "source": [
        "print(\"master sheet\", master.head())\n",
        "print(\"\\n\\nmaster sheet data types\\n\", master.dtypes)"
      ],
      "execution_count": 423,
      "outputs": [
        {
          "output_type": "stream",
          "text": [
            "master sheet    _id                            name\n",
            "0    1                      Telefónica\n",
            "1    2             Corsair Capital LLC\n",
            "2    3                            MSTS\n",
            "3    4  Franklin Templeton Investments\n",
            "4    5                      Legg Mason\n",
            "\n",
            "\n",
            "master sheet data types\n",
            " _id      int64\n",
            "name    object\n",
            "dtype: object\n"
          ],
          "name": "stdout"
        }
      ]
    },
    {
      "cell_type": "code",
      "metadata": {
        "id": "vscq8gRlhLWz",
        "colab_type": "code",
        "colab": {
          "base_uri": "https://localhost:8080/",
          "height": 323
        },
        "outputId": "66b7ada7-9eb9-48a0-dfa5-fbf294071c6e"
      },
      "source": [
        "print(\"blogs sheet\", blogs.head())\n",
        "print(\"\\n\\n blogs sheet data types\\n\", blogs.dtypes)"
      ],
      "execution_count": 424,
      "outputs": [
        {
          "output_type": "stream",
          "text": [
            "blogs sheet    _id  ...                  published_on\n",
            "0    1  ...  2020-07-31T15:41:00.0000000Z\n",
            "1    2  ...  2020-08-01T00:02:00.0000000Z\n",
            "2    3  ...  2020-07-31T22:36:00.0000000Z\n",
            "3    4  ...  2020-08-01T06:29:00.0000000Z\n",
            "4    5  ...  2020-07-31T18:47:00.0000000Z\n",
            "\n",
            "[5 rows x 6 columns]\n",
            "\n",
            "\n",
            " blogs sheet data types\n",
            " _id              int64\n",
            "theme           object\n",
            "source          object\n",
            "title           object\n",
            "description     object\n",
            "published_on    object\n",
            "dtype: object\n"
          ],
          "name": "stdout"
        }
      ]
    },
    {
      "cell_type": "code",
      "metadata": {
        "id": "SX0gMzV8hLW2",
        "colab_type": "code",
        "colab": {
          "base_uri": "https://localhost:8080/",
          "height": 204
        },
        "outputId": "959bce75-ce08-43bd-afb5-0b658826bba4"
      },
      "source": [
        "print(\"output sheet\", output.head())\n",
        "print(\"\\n\\n output sheet data types\\n\", output.dtypes)"
      ],
      "execution_count": 425,
      "outputs": [
        {
          "output_type": "stream",
          "text": [
            "output sheet Empty DataFrame\n",
            "Columns: [blog_id, title, description, company_ids]\n",
            "Index: []\n",
            "\n",
            "\n",
            " output sheet data types\n",
            " blog_id        object\n",
            "title          object\n",
            "description    object\n",
            "company_ids    object\n",
            "dtype: object\n"
          ],
          "name": "stdout"
        }
      ]
    },
    {
      "cell_type": "code",
      "metadata": {
        "id": "WhQVN_q0lrj0",
        "colab_type": "code",
        "colab": {}
      },
      "source": [
        "\n",
        "def dictionary_with_title_description(df):\n",
        "  \" This function will return dictionaries containing blog id, company names from title, and company name from description\"\n",
        "  \n",
        "  company_names_title = {} # initialising empty dictionary for company names extracted from title\n",
        "  company_names_description = {} # initialising empty dictionary for company names extracted from description\n",
        "  descriptionDict = {} # {index : [blog_id, title, description], index_2 : ...}\n",
        "  \n",
        "  for i in range(0, len(df)):\n",
        "    \n",
        "    descriptionDict.setdefault(i, [])\n",
        "    # The magic of setdefault is that it initializes the value for that key if that key is not defined, otherwise it does nothing.\n",
        "    descriptionDict[i].append(df.loc[i, \"_id\"]) # will be adding multiple values in a single key (Here, adding _id)\n",
        "\n",
        "    #  title\n",
        "    descriptionDict.setdefault(i, [])\n",
        "    descriptionDict[i].append(df.loc[i, \"title\"]) # adding title as value in dictionay\n",
        "\n",
        "    # description\n",
        "    descriptionDict.setdefault(i, [])\n",
        "    descriptionDict[i].append(df.loc[i, \"description\"]) #adding description as value in the dictionary\n",
        "\n",
        "  for i in range(0, len(df)):\n",
        "    doc = nlp(descriptionDict[i][2])\n",
        "\n",
        "    for X in doc.ents:\n",
        "      #print((X.text, X.label_, type(X.text), type(X.label_)))\n",
        "      \n",
        "      if X.label_ == 'ORG':\n",
        "\n",
        "        company_names_description.setdefault(descriptionDict[i][0], [])\n",
        "        company_names_description[descriptionDict[i][0]].append(X.text)\n",
        "\n",
        "        # company_names_description.update({descriptionDict[i][0]:X.text})\n",
        "\n",
        "  print(\"company_names FROM description - \",company_names_description)\n",
        "\n",
        "  for i in range(0, len(df)):\n",
        "    titl = nlp(descriptionDict[i][1])\n",
        "    \n",
        "    for X in titl.ents:\n",
        "      #print((X.text, X.label_, type(X.text), type(X.label_)))\n",
        "      \n",
        "      if X.label_ == 'ORG':\n",
        "        # company_names_title.update({descriptionDict[i][0]:X.text})\n",
        "\n",
        "        company_names_title.setdefault(descriptionDict[i][0], [])\n",
        "        company_names_title[descriptionDict[i][0]].append(X.text)\n",
        "  print(\"company_names FROM title - \",company_names_title)\n",
        "\n",
        "\n",
        "  return descriptionDict, company_names_description, company_names_title"
      ],
      "execution_count": 426,
      "outputs": []
    },
    {
      "cell_type": "code",
      "metadata": {
        "id": "fmQS4ClKI5eK",
        "colab_type": "code",
        "colab": {
          "base_uri": "https://localhost:8080/",
          "height": 71
        },
        "outputId": "d08ad125-3ac6-4463-f0a0-e95b9358a8d4"
      },
      "source": [
        "descriptionDict, company_names_description, company_names_title = dictionary_with_title_description(blogs)"
      ],
      "execution_count": 427,
      "outputs": [
        {
          "output_type": "stream",
          "text": [
            "company_names FROM description -  {1: ['Xpeng Motors', 'Tesla', 'CNBC'], 3: ['Fenwick', 'Lemonaid Health', 'Olive Tree Ventures'], 4: ['United Community Banks', 'UCBI', 'ValuEngine', 'œsell', 'ValuEngine'], 5: ['Golden West Food Group', 'Cooks Venture'], 6: ['Amazon'], 7: ['XBiotech'], 8: ['Kodak', 'Trump'], 10: ['Louis Juneau', 'Corporate'], 11: ['Apple'], 12: ['Microsoft', 'TikTok', 'White House'], 13: ['Nvidia', \"SoftBank Group's\", 'Arm Holdings', 'Bloomberg', 'Nvidia'], 14: ['Microsoft', 'TikTok'], 15: ['State', 'TikTok', 'TikTok'], 17: ['Nvidia', 'Arm Holdings'], 18: ['Alta', 'Alta Equipment Group Inc.', 'Martin Implement Sales Inc.'], 19: ['Alta Equipment Group', 'NYSE', 'ALTG', 'Martin'], 20: ['Advent International', 'RA Chem Pharma', 'Micro Labs Limited'], 21: ['Gencor Industries, Inc.', 'œGencor', 'NASDAQ', 'GENC', 'Blaw-Knox', 'Volvo CE'], 22: ['Microsoft', 'TikTok'], 23: ['Bloomberg', 'Nvidia Corp.', 'Arm Ltd.', 'SoftBank Group Corp.'], 24: ['Microsoft', 'TikTok'], 25: ['PAI Partners', 'Amplitude Surgical'], 26: ['TikTok', 'TikTok', 'State', 'TikTok'], 27: ['Microsoft', 'TikTok', 'Chinas ByteDance', 'Bloomberg', 'ByteDance'], 28: ['SinglePoint Inc.', 'SinglePoint', 'Direct Solar of America', 'Standard Eco Solar'], 29: ['Trump', 'ByteDance', 'TikTok'], 30: ['Microsoft', 'TikTok'], 31: ['TikTok'], 32: ['Trump', 'TikTok'], 33: ['Microsoft Corp.', 'TikToks', 'Microsoft'], 34: ['Microsoft', 'TikTok'], 35: ['Microsoft', 'TikTok', 'TikTok'], 36: ['Nokia', 'Vecima Networks', 'Vecima'], 37: ['Nvidia', 'SoftBank', 'the Financial Times'], 38: ['Liberty Latin America'], 39: ['Multi Service Technology Solutions', 'MSTS', 'Corsair Capital'], 41: ['Legg Mason,', 'NYSE', 'LM'], 42: ['The European Commission', 'Bombardier', 'Alstom'], 43: ['Corners Property Trust', 'NYSE', 'FCPT'], 44: ['SEC'], 45: ['KKR', 'MasterD', 'MasterDss', 'KKR'], 46: ['Morgan Stanley', 'National Research Co.', 'NASDAQ:NRC', 'the Securities & Exchange Commission'], 47: ['RA Chem Pharma'], 48: ['IPS Cable Systems', 'Seacom', 'the Comesa Competition Commission'], 49: ['XCMG', 'The XCMG Aerial Work Platform Products Experience Day'], 50: ['Wedbush', 'AAPL', 'Apple', 'iPhone 12 super cycle'], 51: ['Xencor, Inc.'], 52: ['Christensen Farms', 'the Iowa Disposal Assistance Program'], 53: ['Editas Medicine,', 'Catalent'], 54: ['NYSE', 'LHX', 'EOTech', 'American Holoptics', 'Koucar Management'], 55: ['Onosys', 'ItsaCheckmate', 'POS systems'], 56: ['Finance & Treasury', 'CFO'], 57: ['IR Bill Brown'], 58: ['The National Institutes of Health'], 59: ['fintech', 'omni-channel loan origination system (', \"Access Business Technologies'\", 'MortgageExchange'], 60: ['TTM Technologies', 'BidaskClub', 'œbuy'], 61: ['Compulink Technolog', 'Compulink Technologies', 'USNY', 'Freshservice ITSM', 'Freshworks.'], 62: ['Aristocrat Technologies', 'Dragon Link', 'Seminole Hard Rock Hotel & Casino'], 63: ['The Dance Academy of Loudoun'], 64: ['Tyson Foods', 'The state Department of Community and Economic Development'], 65: ['Medicaid', 'Nebraska', 'Medicaid'], 68: ['PG&E'], 69: ['the Board of Directors'], 70: [\"Lloyd's of London\"], 71: ['Huawei'], 72: ['Trump', 'TikTok', 'ByteDance'], 73: ['Rabo AgriFinances ag'], 74: ['Tech Community College', 'Change Management', 'Strate'], 75: ['Dominion Energy'], 76: ['Dominion Energy'], 77: ['Dominion Energy'], 78: ['Amul'], 79: ['MediaBrains'], 80: ['the Spectrum News App', 'The Spectrum News App'], 81: ['Fidelity', 'Avocado'], 82: ['Veracode', 'Security Labs Community Edition', 'Enterprise Edition'], 83: ['Kargi'], 84: ['NASA'], 85: ['Alfa Chemistry Materials'], 86: ['NYSE', 'Continuity Studio'], 87: ['Ineos Hygienics'], 88: [\"Domino's\", \"Art D'Elia\", \"D'Elia\"], 89: ['Dominos Pizza', 'CMO'], 90: ['Cielo', 'Bridgestone Americas'], 91: ['Dominos Pizza,'], 92: ['the Behavioral Health Docket Team'], 93: ['McDermott Will & Emery'], 94: ['Starwood Energy Group Global, LLC', 'Starwood Energy'], 95: ['Coplin Health Systems'], 97: ['Capitol Federal Financial, Inc', 'Board of Directors'], 100: ['The Pakistan Cricket Board', 'PCB', 'CFO', 'CFO', 'the Board of Governors'], 101: ['Zilliqa', 'Onchain Custodian'], 102: ['the Marvell Board', 'Marvell'], 103: ['StoneLock'], 105: ['Nordea', 'Brand, Communications and Marketing', 'the Group Leadership Team'], 106: ['Acutus Medical'], 107: ['Checkmate Pharmaceuticals'], 108: ['Eventbrite Inc.', 'Hartz'], 110: ['SenseTime'], 111: ['Vital Farms Inc.'], 112: ['Whole Foods', 'Nasdaq'], 113: ['ESSA Pharma Inc.', 'EPIX']}\n",
            "company_names FROM title -  {1: ['Xpeng Motors'], 3: ['Fenwick-Led Telehealth Co. Raises'], 4: ['United Community Banks'], 5: ['Golden West Food Group', 'Cooks Venture Raise'], 6: ['Amazon'], 7: ['Working On The Next Bermekimab'], 8: ['Kodak'], 9: [\"Mammoth Energy Services'\"], 10: ['Uni-Select Inc.', 'UNIEF'], 11: ['Apple Reports'], 12: ['Microsoft'], 13: ['Nvidia'], 14: ['Microsoft', 'TikTok'], 15: ['Microsoft', 'Tiktoks US Operations', 'Trump'], 16: ['Microsoft', 'TikTok'], 17: ['Nvidia', 'Arm Holdings'], 18: ['Alta Equipment'], 19: ['Alta Equipment'], 20: ['RA Chem Pharma'], 21: ['Gencor Industries, Inc.', 'Blaw-Knox Paver Business', 'Volvo CE'], 22: ['Microsoft', 'TikTok'], 23: ['Nvidia', 'Advanced Talks'], 24: ['Microsoft', 'TikTok'], 25: ['PAI Partners', 'Amplitude Surgical'], 26: ['Microsoft'], 27: ['Microsoft'], 28: ['SinglePoint Subsidiary Enters Into Letter of Intent'], 29: ['Microsoft', 'TikToks', 'Trump'], 30: ['Microsoft'], 31: ['Microsoft', 'TikTok'], 32: ['TikTok', 'Microsoft'], 33: ['Microsoft', 'TikToks US'], 34: ['Microsoft', 'TikTok'], 35: ['Microsoft', 'TikToks US'], 36: ['DAA', 'EPON/DPoE Portfolios', 'Nokia'], 37: ['Nvidia', 'Advanced Talks', 'SoftBank'], 38: ['Liberty Latin America', 'Telefonica Costa Rica'], 39: ['Corsair Capital', 'MSTS', 'World Fuel Services'], 40: ['Microsoft'], 41: ['Franklin Templeton Completes Acquisition', 'Legg Mason'], 42: ['EU', 'Alstom', 'Bombardier'], 43: ['FCPT'], 45: ['KKR'], 46: ['Morgan Stanley', 'National Research Co.', 'NASDAQ:NRC'], 47: ['Advent International', 'RA Chem Pharma'], 48: ['IPS', 'Seacom'], 49: ['XCMG'], 50: ['Wedbush', 'AAPL'], 51: ['Xencor', 'MorphoSys', 'FDA', 'tafasitamab-cxix'], 53: ['Catalent Enters', 'Strategic Partnership', 'Editas Medicine'], 54: ['Technologies Completes Sale of EOTech', 'American Holoptics'], 55: ['Onosys', 'ItsaCheckmate Integrate Technologies', 'Provide Advanced Enterprise Restaurant Ordering Solutions'], 56: ['Minerals Technologies,', 'MTX'], 57: ['Technologies,', 'LHX'], 58: ['NIH'], 59: ['Third-Party Systems'], 60: ['TTM Technologies', 'BidaskClub'], 61: ['Compulink Technologies', 'Freshworks Streamline IT Support for Higher Education', 'USNY'], 62: ['Seminole Hard Rock Tampa'], 63: ['Dance Academy of Loudoun', 'Leesburg Tech Park'], 64: ['Tyson Foods'], 65: ['Medicaid'], 66: ['Merck', 'Pall Corporation', 'Pentair', 'Alfa Laval'], 68: ['PG&E', 'CECO'], 70: [\"Lloyd's Wants Women\"], 71: ['Nokia'], 72: ['TikTok'], 73: ['Rabo AgriFinance Leadership Team'], 75: ['Dominion Energy'], 76: ['Dominion'], 77: ['Dominion Energy Names New Executive Leadership'], 78: ['Amul'], 79: ['RPN', 'Rubber News Directory', 'MediaBrains'], 81: ['Fidelity Spire Beats Project Avocado To Launch'], 82: ['Veracode Security Labs Community Edition'], 83: ['Walton'], 85: ['Alfa Chemistry Materials Launches Alternative Energy Materials for Renewable Energy Technology Development'], 87: ['Ineos Launches Global Business to Market Sanitizer Products'], 89: ['Dominos Pizza Promotes Art DElia', 'EVP', 'CMO'], 90: ['Bridgestone', 'Cielo, Seidel'], 91: ['Dominos'], 92: ['Newly Formed Behavioral Health Docket'], 93: ['Powerhouse International Trade Team'], 94: ['Starwood Energy'], 95: ['Coplin Health Systems'], 97: ['Capitol Federal Financial, Inc', 'Board of Directors'], 98: ['Kona Community Hospital'], 100: ['PCB', 'CFO'], 101: ['Zilliqa', 'Onchain Custodian'], 102: ['Marvell', 'AT&T', 'Board of Directors'], 103: ['StoneLock', 'GM'], 104: ['Feenics'], 105: ['Nordea'], 107: ['Checkmate Pharmaceuticals Begins IPO'], 110: ['SenseTime', 'STAR market IPO'], 111: ['Vital Farms'], 113: ['ESSA Pharma Completes Public Offering for Aggregate Gross Proceeds']}\n"
          ],
          "name": "stdout"
        }
      ]
    },
    {
      "cell_type": "code",
      "metadata": {
        "id": "bwssDbCSnKmo",
        "colab_type": "code",
        "colab": {}
      },
      "source": [
        "final_dictionary = {}\n",
        "try:\n",
        "  for key, value in company_names_description.items():\n",
        "    # print(\"Value at o\", value[0])\n",
        "    \n",
        "    for j in range(0, len(master)):\n",
        "\n",
        "      for k in range(0, len(value)):\n",
        "        \n",
        "        if (value[k] == master.loc[j, \"name\"]):\n",
        "          \n",
        "          final_dictionary.setdefault(key, [])\n",
        "          final_dictionary[key].append(master.loc[j, \"_id\"])\n",
        "\n",
        "except:\n",
        "  print(\"RA\")"
      ],
      "execution_count": 428,
      "outputs": []
    },
    {
      "cell_type": "code",
      "metadata": {
        "id": "DYtkJFP6M6rX",
        "colab_type": "code",
        "colab": {
          "base_uri": "https://localhost:8080/",
          "height": 255
        },
        "outputId": "4dc802fb-f2cc-4ccb-9910-8b1b30d4936a"
      },
      "source": [
        "final_dictionary"
      ],
      "execution_count": 429,
      "outputs": [
        {
          "output_type": "execute_result",
          "data": {
            "text/plain": [
              "{1: [31],\n",
              " 6: [36],\n",
              " 7: [38],\n",
              " 8: [40],\n",
              " 13: [42, 42],\n",
              " 17: [42],\n",
              " 25: [45],\n",
              " 37: [42],\n",
              " 39: [3],\n",
              " 60: [12],\n",
              " 61: [14],\n",
              " 78: [29],\n",
              " 105: [23],\n",
              " 107: [22]}"
            ]
          },
          "metadata": {
            "tags": []
          },
          "execution_count": 429
        }
      ]
    },
    {
      "cell_type": "code",
      "metadata": {
        "id": "epnzUCcUM6u6",
        "colab_type": "code",
        "colab": {}
      },
      "source": [
        "try:\n",
        "  for key, value in company_names_title.items():\n",
        "    # print(\"Value at o\", value[0])\n",
        "    \n",
        "    for j in range(0, len(master)):\n",
        "\n",
        "      for k in range(0, len(value)):\n",
        "        \n",
        "        if (value[k] == master.loc[j, \"name\"]):\n",
        "          \n",
        "          final_dictionary.setdefault(key, [])\n",
        "          final_dictionary[key].append(master.loc[j, \"_id\"])\n",
        "\n",
        "except:\n",
        "  print(\"RA\")"
      ],
      "execution_count": 430,
      "outputs": []
    },
    {
      "cell_type": "code",
      "metadata": {
        "id": "AqAYpeffpEY2",
        "colab_type": "code",
        "colab": {
          "base_uri": "https://localhost:8080/",
          "height": 391
        },
        "outputId": "eca0da35-73fa-4770-9e9e-465ba228bf41"
      },
      "source": [
        "final_dictionary"
      ],
      "execution_count": 431,
      "outputs": [
        {
          "output_type": "execute_result",
          "data": {
            "text/plain": [
              "{1: [31, 31],\n",
              " 6: [36, 36],\n",
              " 7: [38],\n",
              " 8: [40, 40],\n",
              " 13: [42, 42, 42],\n",
              " 17: [42, 42],\n",
              " 18: [43],\n",
              " 19: [43],\n",
              " 23: [42],\n",
              " 25: [45, 45],\n",
              " 37: [42, 42],\n",
              " 39: [3, 3],\n",
              " 41: [5],\n",
              " 53: [8],\n",
              " 58: [13],\n",
              " 60: [12, 12],\n",
              " 61: [14, 14],\n",
              " 76: [17],\n",
              " 78: [29, 29],\n",
              " 104: [24],\n",
              " 105: [23, 23],\n",
              " 107: [22]}"
            ]
          },
          "metadata": {
            "tags": []
          },
          "execution_count": 431
        }
      ]
    },
    {
      "cell_type": "code",
      "metadata": {
        "id": "SWNU6lXYyHUH",
        "colab_type": "code",
        "colab": {
          "base_uri": "https://localhost:8080/",
          "height": 620
        },
        "outputId": "94e5e36f-734f-4d2c-d71e-e1d7488b15b4"
      },
      "source": [
        "blogs.set_index(\"_id\")"
      ],
      "execution_count": 432,
      "outputs": [
        {
          "output_type": "execute_result",
          "data": {
            "text/html": [
              "<div>\n",
              "<style scoped>\n",
              "    .dataframe tbody tr th:only-of-type {\n",
              "        vertical-align: middle;\n",
              "    }\n",
              "\n",
              "    .dataframe tbody tr th {\n",
              "        vertical-align: top;\n",
              "    }\n",
              "\n",
              "    .dataframe thead th {\n",
              "        text-align: right;\n",
              "    }\n",
              "</style>\n",
              "<table border=\"1\" class=\"dataframe\">\n",
              "  <thead>\n",
              "    <tr style=\"text-align: right;\">\n",
              "      <th></th>\n",
              "      <th>theme</th>\n",
              "      <th>source</th>\n",
              "      <th>title</th>\n",
              "      <th>description</th>\n",
              "      <th>published_on</th>\n",
              "    </tr>\n",
              "    <tr>\n",
              "      <th>_id</th>\n",
              "      <th></th>\n",
              "      <th></th>\n",
              "      <th></th>\n",
              "      <th></th>\n",
              "      <th></th>\n",
              "    </tr>\n",
              "  </thead>\n",
              "  <tbody>\n",
              "    <tr>\n",
              "      <th>1</th>\n",
              "      <td>funding</td>\n",
              "      <td>bing</td>\n",
              "      <td>Chinese Tesla rival Xpeng Motors in talks over...</td>\n",
              "      <td>Xpeng Motors, one of Tesla's rivals in China, ...</td>\n",
              "      <td>2020-07-31T15:41:00.0000000Z</td>\n",
              "    </tr>\n",
              "    <tr>\n",
              "      <th>2</th>\n",
              "      <td>funding</td>\n",
              "      <td>bing</td>\n",
              "      <td>Wine.com Seeks Funding at Valuation of More Th...</td>\n",
              "      <td>Wine.com, an online retailer that lets custome...</td>\n",
              "      <td>2020-08-01T00:02:00.0000000Z</td>\n",
              "    </tr>\n",
              "    <tr>\n",
              "      <th>3</th>\n",
              "      <td>funding</td>\n",
              "      <td>bing</td>\n",
              "      <td>Fenwick-Led Telehealth Co. Raises $33M As Indu...</td>\n",
              "      <td>Fenwick-advised telehealth platform Lemonaid H...</td>\n",
              "      <td>2020-07-31T22:36:00.0000000Z</td>\n",
              "    </tr>\n",
              "    <tr>\n",
              "      <th>4</th>\n",
              "      <td>funding</td>\n",
              "      <td>bing</td>\n",
              "      <td>United Community Banks (NASDAQ:UCBI) Raised to...</td>\n",
              "      <td>United Community Banks (NASDAQ:UCBI) was upgra...</td>\n",
              "      <td>2020-08-01T06:29:00.0000000Z</td>\n",
              "    </tr>\n",
              "    <tr>\n",
              "      <th>5</th>\n",
              "      <td>funding</td>\n",
              "      <td>bing</td>\n",
              "      <td>Golden West Food Group, Cooks Venture Raise $1...</td>\n",
              "      <td>PRNewswire/ -- Golden West Food Group and Cook...</td>\n",
              "      <td>2020-07-31T18:47:00.0000000Z</td>\n",
              "    </tr>\n",
              "    <tr>\n",
              "      <th>...</th>\n",
              "      <td>...</td>\n",
              "      <td>...</td>\n",
              "      <td>...</td>\n",
              "      <td>...</td>\n",
              "      <td>...</td>\n",
              "    </tr>\n",
              "    <tr>\n",
              "      <th>109</th>\n",
              "      <td>ipos</td>\n",
              "      <td>bing</td>\n",
              "      <td>AlloVir raises $276M IPO to run broad cell the...</td>\n",
              "      <td>AlloVir has raised $276 million in an upsized ...</td>\n",
              "      <td>2020-07-31T12:25:00.0000000Z</td>\n",
              "    </tr>\n",
              "    <tr>\n",
              "      <th>110</th>\n",
              "      <td>ipos</td>\n",
              "      <td>bing</td>\n",
              "      <td>Exclusive: SenseTime eyes STAR market IPO afte...</td>\n",
              "      <td>Chinese start-up SenseTime is considering an i...</td>\n",
              "      <td>2020-07-31T10:48:00.0000000Z</td>\n",
              "    </tr>\n",
              "    <tr>\n",
              "      <th>111</th>\n",
              "      <td>ipos</td>\n",
              "      <td>bing</td>\n",
              "      <td>Vital Farms shares soar 63% in trading debut a...</td>\n",
              "      <td>Shares of ethical food company Vital Farms Inc...</td>\n",
              "      <td>2020-07-31T16:45:00.0000000Z</td>\n",
              "    </tr>\n",
              "    <tr>\n",
              "      <th>112</th>\n",
              "      <td>ipos</td>\n",
              "      <td>bing</td>\n",
              "      <td>Conscious agribusiness Vital Farms goes public</td>\n",
              "      <td>You can find their eggs in Whole Foods, Walmar...</td>\n",
              "      <td>2020-07-31T20:26:00.0000000Z</td>\n",
              "    </tr>\n",
              "    <tr>\n",
              "      <th>113</th>\n",
              "      <td>ipos</td>\n",
              "      <td>bing</td>\n",
              "      <td>ESSA Pharma Completes Public Offering for Aggr...</td>\n",
              "      <td>ESSA Pharma Inc. (\"ESSA\", or the \"Company\") (N...</td>\n",
              "      <td>2020-07-31T14:21:00.0000000Z</td>\n",
              "    </tr>\n",
              "  </tbody>\n",
              "</table>\n",
              "<p>113 rows × 5 columns</p>\n",
              "</div>"
            ],
            "text/plain": [
              "       theme  ...                  published_on\n",
              "_id           ...                              \n",
              "1    funding  ...  2020-07-31T15:41:00.0000000Z\n",
              "2    funding  ...  2020-08-01T00:02:00.0000000Z\n",
              "3    funding  ...  2020-07-31T22:36:00.0000000Z\n",
              "4    funding  ...  2020-08-01T06:29:00.0000000Z\n",
              "5    funding  ...  2020-07-31T18:47:00.0000000Z\n",
              "..       ...  ...                           ...\n",
              "109     ipos  ...  2020-07-31T12:25:00.0000000Z\n",
              "110     ipos  ...  2020-07-31T10:48:00.0000000Z\n",
              "111     ipos  ...  2020-07-31T16:45:00.0000000Z\n",
              "112     ipos  ...  2020-07-31T20:26:00.0000000Z\n",
              "113     ipos  ...  2020-07-31T14:21:00.0000000Z\n",
              "\n",
              "[113 rows x 5 columns]"
            ]
          },
          "metadata": {
            "tags": []
          },
          "execution_count": 432
        }
      ]
    },
    {
      "cell_type": "code",
      "metadata": {
        "id": "ykWbBVlwv_t3",
        "colab_type": "code",
        "colab": {}
      },
      "source": [
        "for k, v in final_dictionary.items():\n",
        "  new_row = {'blog_id':k, 'title': blogs[\"title\"][k], 'description': blogs[\"description\"][k], 'company_ids': final_dictionary[k]}\n",
        "  output = output.append(new_row, ignore_index=True)"
      ],
      "execution_count": 433,
      "outputs": []
    },
    {
      "cell_type": "code",
      "metadata": {
        "id": "hKgiSHHz5OHo",
        "colab_type": "code",
        "colab": {
          "base_uri": "https://localhost:8080/",
          "height": 731
        },
        "outputId": "afe00e20-45e8-4c76-bac8-adb0eb7ff7b6"
      },
      "source": [
        "output"
      ],
      "execution_count": 434,
      "outputs": [
        {
          "output_type": "execute_result",
          "data": {
            "text/html": [
              "<div>\n",
              "<style scoped>\n",
              "    .dataframe tbody tr th:only-of-type {\n",
              "        vertical-align: middle;\n",
              "    }\n",
              "\n",
              "    .dataframe tbody tr th {\n",
              "        vertical-align: top;\n",
              "    }\n",
              "\n",
              "    .dataframe thead th {\n",
              "        text-align: right;\n",
              "    }\n",
              "</style>\n",
              "<table border=\"1\" class=\"dataframe\">\n",
              "  <thead>\n",
              "    <tr style=\"text-align: right;\">\n",
              "      <th></th>\n",
              "      <th>blog_id</th>\n",
              "      <th>title</th>\n",
              "      <th>description</th>\n",
              "      <th>company_ids</th>\n",
              "    </tr>\n",
              "  </thead>\n",
              "  <tbody>\n",
              "    <tr>\n",
              "      <th>0</th>\n",
              "      <td>1</td>\n",
              "      <td>Wine.com Seeks Funding at Valuation of More Th...</td>\n",
              "      <td>Wine.com, an online retailer that lets custome...</td>\n",
              "      <td>[31, 31]</td>\n",
              "    </tr>\n",
              "    <tr>\n",
              "      <th>1</th>\n",
              "      <td>6</td>\n",
              "      <td>XBiotech: Well Funded, Working On The Next Ber...</td>\n",
              "      <td>XBiotech develops True Humanâ„¢ (naturally occ...</td>\n",
              "      <td>[36, 36]</td>\n",
              "    </tr>\n",
              "    <tr>\n",
              "      <th>2</th>\n",
              "      <td>7</td>\n",
              "      <td>Kodak boss took out stock options day before f...</td>\n",
              "      <td>Kodak CEO, Jim Continenza (above) was awarded ...</td>\n",
              "      <td>[38]</td>\n",
              "    </tr>\n",
              "    <tr>\n",
              "      <th>3</th>\n",
              "      <td>8</td>\n",
              "      <td>Mammoth Energy Services' (TUSK) CEO Arty Strae...</td>\n",
              "      <td>Q2 2020 Earnings Conference Call July 30, 2020...</td>\n",
              "      <td>[40, 40]</td>\n",
              "    </tr>\n",
              "    <tr>\n",
              "      <th>4</th>\n",
              "      <td>13</td>\n",
              "      <td>Microsoft in talks to acquire TikTok, reports say</td>\n",
              "      <td>Microsoft is reportedly in talks to acquire Ti...</td>\n",
              "      <td>[42, 42, 42]</td>\n",
              "    </tr>\n",
              "    <tr>\n",
              "      <th>5</th>\n",
              "      <td>17</td>\n",
              "      <td>Alta Equipment continues growth with deal to a...</td>\n",
              "      <td>It's the fourth acquisition this year Terms of...</td>\n",
              "      <td>[42, 42]</td>\n",
              "    </tr>\n",
              "    <tr>\n",
              "      <th>6</th>\n",
              "      <td>25</td>\n",
              "      <td>Microsoft Reportedly In Talks To Acquire TikTo...</td>\n",
              "      <td>We may be banning TikTok. We are looking at a ...</td>\n",
              "      <td>[45, 45]</td>\n",
              "    </tr>\n",
              "    <tr>\n",
              "      <th>7</th>\n",
              "      <td>37</td>\n",
              "      <td>Liberty Latin America to Acquire Telefonica Co...</td>\n",
              "      <td>Liberty Latin America has entered into a defin...</td>\n",
              "      <td>[42, 42]</td>\n",
              "    </tr>\n",
              "    <tr>\n",
              "      <th>8</th>\n",
              "      <td>39</td>\n",
              "      <td>Microsoft Said to Be Exploring TikTok Acquisition</td>\n",
              "      <td>The app, which has been downloaded more than 2...</td>\n",
              "      <td>[3, 3]</td>\n",
              "    </tr>\n",
              "    <tr>\n",
              "      <th>9</th>\n",
              "      <td>60</td>\n",
              "      <td>Compulink Technologies and Freshworks Streamli...</td>\n",
              "      <td>So, the college turned to IT solutions provide...</td>\n",
              "      <td>[12, 12]</td>\n",
              "    </tr>\n",
              "    <tr>\n",
              "      <th>10</th>\n",
              "      <td>61</td>\n",
              "      <td>Aristocrat Technologies Upgraded Dragon Link t...</td>\n",
              "      <td>Aristocrat Technologies announced today its la...</td>\n",
              "      <td>[14, 14]</td>\n",
              "    </tr>\n",
              "    <tr>\n",
              "      <th>11</th>\n",
              "      <td>78</td>\n",
              "      <td>RPN launches improved Rubber News Directory in...</td>\n",
              "      <td>In conjunction with the launch, MediaBrains is...</td>\n",
              "      <td>[29, 29]</td>\n",
              "    </tr>\n",
              "    <tr>\n",
              "      <th>12</th>\n",
              "      <td>105</td>\n",
              "      <td>IPO Update:  Proposes IPO Terms</td>\n",
              "      <td>Acutus Medical intends to raise $125 million i...</td>\n",
              "      <td>[23, 23]</td>\n",
              "    </tr>\n",
              "    <tr>\n",
              "      <th>13</th>\n",
              "      <td>107</td>\n",
              "      <td>Eventbrite co-founder joins 'blank check' IPO ...</td>\n",
              "      <td>Kevin Hartz, co-founder of Eventbrite Inc., fi...</td>\n",
              "      <td>[22]</td>\n",
              "    </tr>\n",
              "    <tr>\n",
              "      <th>14</th>\n",
              "      <td>18</td>\n",
              "      <td>Alta Equipment to acquire Martin Implement Sales</td>\n",
              "      <td>Alta Equipment Group (NYSE:ALTG) announcesÂ an...</td>\n",
              "      <td>[43]</td>\n",
              "    </tr>\n",
              "    <tr>\n",
              "      <th>15</th>\n",
              "      <td>19</td>\n",
              "      <td>Advent to acquire RA Chem Pharma</td>\n",
              "      <td>Advent International has agreed to acquire a c...</td>\n",
              "      <td>[43]</td>\n",
              "    </tr>\n",
              "    <tr>\n",
              "      <th>16</th>\n",
              "      <td>23</td>\n",
              "      <td>Microsoft in talks to acquire TikTok, say reports</td>\n",
              "      <td>A number of credible reports are emerging toda...</td>\n",
              "      <td>[42]</td>\n",
              "    </tr>\n",
              "    <tr>\n",
              "      <th>17</th>\n",
              "      <td>41</td>\n",
              "      <td>EU clears Alstom's acquisition of Bombardier r...</td>\n",
              "      <td>The European Commission has cleared the acquis...</td>\n",
              "      <td>[5]</td>\n",
              "    </tr>\n",
              "    <tr>\n",
              "      <th>18</th>\n",
              "      <td>53</td>\n",
              "      <td>L3Harris Technologies Completes Sale of EOTech...</td>\n",
              "      <td>L3Harris Technologies (NYSE:LHX) today complet...</td>\n",
              "      <td>[8]</td>\n",
              "    </tr>\n",
              "    <tr>\n",
              "      <th>19</th>\n",
              "      <td>58</td>\n",
              "      <td>OpenClose Integration with Access Business Tec...</td>\n",
              "      <td>OpenCloseÂ®, the industry-leading mortgage fin...</td>\n",
              "      <td>[13]</td>\n",
              "    </tr>\n",
              "    <tr>\n",
              "      <th>20</th>\n",
              "      <td>76</td>\n",
              "      <td>BREAKING: Weeks After Canceling Atlantic Coast...</td>\n",
              "      <td>Wow, very interesting...been wondering if some...</td>\n",
              "      <td>[17]</td>\n",
              "    </tr>\n",
              "    <tr>\n",
              "      <th>21</th>\n",
              "      <td>104</td>\n",
              "      <td>Nordea appoints Ulrika Romantschuk as Head of ...</td>\n",
              "      <td>Ulrika Romantschuk will join Nordea as Head of...</td>\n",
              "      <td>[24]</td>\n",
              "    </tr>\n",
              "  </tbody>\n",
              "</table>\n",
              "</div>"
            ],
            "text/plain": [
              "   blog_id  ...   company_ids\n",
              "0        1  ...      [31, 31]\n",
              "1        6  ...      [36, 36]\n",
              "2        7  ...          [38]\n",
              "3        8  ...      [40, 40]\n",
              "4       13  ...  [42, 42, 42]\n",
              "5       17  ...      [42, 42]\n",
              "6       25  ...      [45, 45]\n",
              "7       37  ...      [42, 42]\n",
              "8       39  ...        [3, 3]\n",
              "9       60  ...      [12, 12]\n",
              "10      61  ...      [14, 14]\n",
              "11      78  ...      [29, 29]\n",
              "12     105  ...      [23, 23]\n",
              "13     107  ...          [22]\n",
              "14      18  ...          [43]\n",
              "15      19  ...          [43]\n",
              "16      23  ...          [42]\n",
              "17      41  ...           [5]\n",
              "18      53  ...           [8]\n",
              "19      58  ...          [13]\n",
              "20      76  ...          [17]\n",
              "21     104  ...          [24]\n",
              "\n",
              "[22 rows x 4 columns]"
            ]
          },
          "metadata": {
            "tags": []
          },
          "execution_count": 434
        }
      ]
    },
    {
      "cell_type": "code",
      "metadata": {
        "id": "ZIydqgqt4sCu",
        "colab_type": "code",
        "colab": {}
      },
      "source": [
        "output.to_csv(\"output-sheet_new_lg.csv\", index = False)"
      ],
      "execution_count": 435,
      "outputs": []
    },
    {
      "cell_type": "code",
      "metadata": {
        "id": "kyKL4gR9pPpS",
        "colab_type": "code",
        "colab": {}
      },
      "source": [
        ""
      ],
      "execution_count": 435,
      "outputs": []
    }
  ]
}